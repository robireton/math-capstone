{
 "cells": [
  {
   "cell_type": "markdown",
   "metadata": {},
   "source": [
    "# Multiples of 3 and 5\n",
    "\n",
    "> If we list all the natural numbers below 10 that are multiples of 3 or 5, we get 3, 5, 6 and 9. The sum of these multiples is 23.\n",
    "> \n",
    "> Find the sum of all the multiples of 3 or 5 below 1000.\n",
    "\n",
    "This is reminiscent of the classic computer job interview problem, “[FizzBuzz](https://www.youtube.com/watch?v=QPZ0pIK_wsc)” (which is itself based on an old children’s game). In essence, while counting, do something when a number is a multiple of 3, something else when a multiple of 5, a third thing when a multiple of both, and a default thing otrherwise.\n",
    "\n",
    "Our problem is a little easier because we can do the same thing if our number is a multiple of 3, 5, or both:"
   ]
  },
  {
   "cell_type": "code",
   "execution_count": 1,
   "metadata": {},
   "outputs": [
    {
     "data": {
      "text/plain": [
       "233168"
      ]
     },
     "execution_count": 1,
     "metadata": {},
     "output_type": "execute_result"
    }
   ],
   "source": [
    "s = 0\n",
    "for n in 1:999\n",
    "    if n % 3 == 0 || n % 5 == 0\n",
    "        s += n\n",
    "    end\n",
    "end\n",
    "s"
   ]
  },
  {
   "cell_type": "markdown",
   "metadata": {},
   "source": [
    "However, we have to be careful again if we start thinking with more mathematical notation: \n",
    "$$ \\sum\\limits_{i=1}^{ \\lfloor 999 / 3 \\rfloor}3i + \\sum\\limits_{i=1}^{\\lfloor 999 / 5 \\rfloor}5i = 266333 $$\n",
    "counts the multiples of 15 twice. We have to subtract off one sum of multiples of 15 to get the answer we’re looking for: $$ \\sum\\limits_{i=1}^{ \\lfloor 999 / 3 \\rfloor}3i + \\sum\\limits_{i=1}^{\\lfloor 999 / 5 \\rfloor}5i - \\sum\\limits_{i=1}^{ \\lfloor 999 / 15 \\rfloor}15i = 233168 $$\n",
    "\n",
    "In code, we see that:"
   ]
  },
  {
   "cell_type": "code",
   "execution_count": 2,
   "metadata": {},
   "outputs": [
    {
     "data": {
      "text/plain": [
       "266333"
      ]
     },
     "execution_count": 2,
     "metadata": {},
     "output_type": "execute_result"
    }
   ],
   "source": [
    "sum(3:3:999) + sum(5:5:999)"
   ]
  },
  {
   "cell_type": "markdown",
   "metadata": {},
   "source": [
    "but"
   ]
  },
  {
   "cell_type": "code",
   "execution_count": 3,
   "metadata": {},
   "outputs": [
    {
     "data": {
      "text/plain": [
       "233168"
      ]
     },
     "execution_count": 3,
     "metadata": {},
     "output_type": "execute_result"
    }
   ],
   "source": [
    "sum(3:3:999) + sum(5:5:999) - sum(15:15:999)"
   ]
  },
  {
   "cell_type": "markdown",
   "metadata": {},
   "source": [
    "About ranges in Julia: `1:999` is a set of numbers (*integers*) starting at 1 and ending at 999; so, `1, 2, 3, 4, …, 998, 999`. They can also have an increment other than one: `3:3:999` represents the numbers starting at 3, incremented by three, ending at 999; so, `3, 6, 9, …, 996, 999`. Also we can do set operations on these, so `(3:3:999) ∪ (5:5:999)` only contains the multiples of 15 once: `…, 9, 10, 12, 15, 18, 20, …`. That means that we can do this problem with one line like this:"
   ]
  },
  {
   "cell_type": "code",
   "execution_count": 4,
   "metadata": {},
   "outputs": [
    {
     "data": {
      "text/plain": [
       "233168"
      ]
     },
     "execution_count": 4,
     "metadata": {},
     "output_type": "execute_result"
    }
   ],
   "source": [
    "sum((3:3:999) ∪ (5:5:999))"
   ]
  }
 ],
 "metadata": {
  "kernelspec": {
   "display_name": "Julia 1.4.1",
   "language": "julia",
   "name": "julia-1.4"
  },
  "language_info": {
   "file_extension": ".jl",
   "mimetype": "application/julia",
   "name": "julia",
   "version": "1.4.1"
  }
 },
 "nbformat": 4,
 "nbformat_minor": 4
}
