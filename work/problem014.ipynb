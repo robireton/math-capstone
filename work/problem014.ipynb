{
 "cells": [
  {
   "cell_type": "markdown",
   "metadata": {},
   "source": [
    "# Longest Collatz sequence\n",
    "\n",
    "<blockquote>\n",
    "<p>The following iterative sequence is defined for the set of positive integers:</p>\n",
    "<p style=\"margin-left:50px;\"><var>n</var> → <var>n</var>/2 (<var>n</var> is even)<br /><var>n</var> → 3<var>n</var> + 1 (<var>n</var> is odd)</p>\n",
    "<p>Using the rule above and starting with 13, we generate the following sequence:</p>\n",
    "<div style=\"text-align:center;\">13 → 40 → 20 → 10 → 5 → 16 → 8 → 4 → 2 → 1</div>\n",
    "<p>It can be seen that this sequence (starting at 13 and finishing at 1) contains 10 terms. Although it has not been proved yet (Collatz Problem), it is thought that all starting numbers finish at 1.</p>\n",
    "<p>Which starting number, under one million, produces the longest chain?</p>\n",
    "<p class=\"note\"><b>NOTE:</b> Once the chain starts the terms are allowed to go above one million.</p>\n",
    "</blockquote>"
   ]
  },
  {
   "cell_type": "markdown",
   "metadata": {},
   "source": [
    "Since computing the length of the Collatz chain for any given number can take arbitrarily-long, we’d like to avoid computing the same value twice. We’ll use a dictionary to store the results we’ve already computed. A pre-allocated array would be more trouble since we don’t know how large the terms will be, even though we are only interested the results for the first million terms.\n",
    "\n",
    "Once a value in a chain is a power of 2, the chain quickly reduces to 1 as we apply the $n\\div 2$ rule repeatedly. In fact, the length of the Collatz chain for $2^n$ is $n$. We can seed our dictionary with these values.\n",
    "\n",
    "Another savings in computation can be had by noticing that, once we’ve found the length of the chain for a number, we also know the length for all the other numbers in the chain. Our algorithm adds Collatz terms to a stack until it reaches one with a known length. It then pops them off and saves the results based on the known length and the position in the stack."
   ]
  },
  {
   "cell_type": "code",
   "execution_count": 2,
   "metadata": {},
   "outputs": [
    {
     "data": {
      "text/plain": [
       "collatz (generic function with 1 method)"
      ]
     },
     "execution_count": 2,
     "metadata": {},
     "output_type": "execute_result"
    }
   ],
   "source": [
    "collatz(n) = iseven(n) ? div(n, 2) : 3n+1"
   ]
  },
  {
   "cell_type": "code",
   "execution_count": 3,
   "metadata": {},
   "outputs": [
    {
     "name": "stdout",
     "output_type": "stream",
     "text": [
      "longest chain: 525\n",
      "number with longest chain: 837799\n",
      "largest term: 56991483520\n",
      "number of terms: 2168611\n"
     ]
    },
    {
     "data": {
      "text/plain": [
       "(837799, 525)"
      ]
     },
     "execution_count": 3,
     "metadata": {},
     "output_type": "execute_result"
    }
   ],
   "source": [
    "let m = 1_000_000\n",
    "    C = Dict()\n",
    "    \n",
    "    # seed with powers of 2\n",
    "    n, l = one(m), one(m)\n",
    "    while n < m\n",
    "        C[n] = l\n",
    "        n *= 2\n",
    "        l += 1\n",
    "    end\n",
    "    \n",
    "    # compute the chain lengths for other values less than m\n",
    "    for n in 3:m-1\n",
    "        haskey(C, n) && continue\n",
    "        S = [n]\n",
    "        while !haskey(C, S[end])\n",
    "            push!(S, collatz(S[end]))\n",
    "        end\n",
    "        l = C[pop!(S)]\n",
    "        while length(S) > 0\n",
    "            l += 1\n",
    "            C[pop!(S)] = l\n",
    "        end\n",
    "    end\n",
    "\n",
    "    # find the number with the longest chain\n",
    "    println(\"longest chain: $(maximum(values(C)))\")\n",
    "    println(\"number with longest chain: $(argmax(C))\")\n",
    "    println(\"largest term: $(maximum(keys(C)))\")\n",
    "    println(\"number of terms: $(length(C))\")\n",
    "    a, b = 0, 0\n",
    "    for n in 1:m-1\n",
    "        if C[n] > b\n",
    "            a, b = n, C[n]\n",
    "        end\n",
    "    end\n",
    "    a, b\n",
    "end\n",
    "\n",
    "    "
   ]
  },
  {
   "cell_type": "markdown",
   "metadata": {},
   "source": [
    "## Results\n",
    "\n",
    "The number less than one million with the longest chain is 837799, which has a chain length of 525. Sorting the results would be a mistake: we don't need to put them all in order, we just need to make a single pass to find the largest one.\n",
    "\n",
    "The `argmax` function does find the key for the largest value. I considered whether there might be a longer chain for numbers larger than one million, but the only way those numbers get calculated is as part of a chain for a number less than one million; so using `argmax` should be sufficient.\n",
    "\n",
    "It’s interesting to see that we end up computing the chain length for over 2 million terms in order to get every term less than one million. Amazingly, we have to compute the chain length for a number that is nearly 57 trillion in the process."
   ]
  },
  {
   "cell_type": "code",
   "execution_count": null,
   "metadata": {},
   "outputs": [],
   "source": []
  }
 ],
 "metadata": {
  "kernelspec": {
   "display_name": "Julia 1.4.1",
   "language": "julia",
   "name": "julia-1.4"
  },
  "language_info": {
   "file_extension": ".jl",
   "mimetype": "application/julia",
   "name": "julia",
   "version": "1.4.1"
  }
 },
 "nbformat": 4,
 "nbformat_minor": 4
}
