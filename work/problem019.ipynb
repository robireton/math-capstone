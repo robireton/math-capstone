{
 "cells": [
  {
   "cell_type": "markdown",
   "metadata": {},
   "source": [
    "# Counting Sundays\n",
    "\n",
    "> You are given the following information, but you may prefer to do some research for yourself.\n",
    "> * 1 Jan 1900 was a Monday.\n",
    "> * Thirty days has September,\n",
    ">   April, June and November.\n",
    ">   All the rest have thirty-one,\n",
    ">   Saving February alone,\n",
    ">   Which has twenty-eight, rain or shine.\n",
    ">   And on leap years, twenty-nine.\n",
    "> * A leap year occurs on any year evenly divisible by 4, but not on a century unless it is divisible by 400.\n",
    ">\n",
    "> How many Sundays fell on the first of the month during the twentieth century (1 Jan 1901 to 31 Dec 2000)?\n"
   ]
  },
  {
   "cell_type": "code",
   "execution_count": null,
   "metadata": {},
   "outputs": [],
   "source": []
  }
 ],
 "metadata": {
  "kernelspec": {
   "display_name": "Julia 1.4.1",
   "language": "julia",
   "name": "julia-1.4"
  },
  "language_info": {
   "file_extension": ".jl",
   "mimetype": "application/julia",
   "name": "julia",
   "version": "1.4.1"
  }
 },
 "nbformat": 4,
 "nbformat_minor": 4
}
