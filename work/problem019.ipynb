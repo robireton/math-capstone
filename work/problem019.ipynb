{
 "cells": [
  {
   "cell_type": "markdown",
   "metadata": {},
   "source": [
    "# Counting Sundays\n",
    "\n",
    "> You are given the following information, but you may prefer to do some research for yourself.\n",
    "> * 1 Jan 1900 was a Monday.\n",
    "> * Thirty days has September,\n",
    ">   April, June and November.\n",
    ">   All the rest have thirty-one,\n",
    ">   Saving February alone,\n",
    ">   Which has twenty-eight, rain or shine.\n",
    ">   And on leap years, twenty-nine.\n",
    "> * A leap year occurs on any year evenly divisible by 4, but not on a century unless it is divisible by 400.\n",
    ">\n",
    "> How many Sundays fell on the first of the month during the twentieth century (1 Jan 1901 to 31 Dec 2000)?\n"
   ]
  },
  {
   "cell_type": "markdown",
   "metadata": {},
   "source": [
    "I know several methods for determining the day of the week for a given calendar date. I’ll use this as an opportunity to explore Julia modules for namespacing. *Note, given the date range of interest in this problem, I’m going to simplify all of the algorithms to assume dates in the Gregorian calendar.* I’ll start with a module to hold some shared utility code."
   ]
  },
  {
   "cell_type": "code",
   "execution_count": 1,
   "metadata": {},
   "outputs": [
    {
     "data": {
      "text/plain": [
       "Main.CalendarUtil"
      ]
     },
     "execution_count": 1,
     "metadata": {},
     "output_type": "execute_result"
    }
   ],
   "source": [
    "module CalendarUtil\n",
    "export daynames, isleapyear\n",
    "\n",
    "daynames = Dict(0 => \"Sunday\", 1 => \"Monday\", 2 => \"Tuesday\", 3 => \"Wednesday\", 4 => \"Thursday\", 5 => \"Friday\", 6 => \"Saturday\")\n",
    "\n",
    "isleapyear(year) = mod(year, 4) == 0 && (mod(year, 100) != 0 || mod(year, 400) == 0)\n",
    "end"
   ]
  },
  {
   "cell_type": "markdown",
   "metadata": {},
   "source": [
    "## Astronomers’ Method\n",
    "\n",
    "In his book, *Astronomical Algorithms*, Jean Meeus gives a method for finding the ‘Julian Day Number’ for a calendar date—the count of days since noon on the beginning of the year -4712. The day of the week can then be found by computing the residual modulo 7."
   ]
  },
  {
   "cell_type": "code",
   "execution_count": 2,
   "metadata": {},
   "outputs": [
    {
     "data": {
      "text/plain": [
       "Main.Meeus"
      ]
     },
     "execution_count": 2,
     "metadata": {},
     "output_type": "execute_result"
    }
   ],
   "source": [
    "module Meeus\n",
    "using Main.CalendarUtil\n",
    "\n",
    "function julian_day(Y, M, D)\n",
    "    if M < 3\n",
    "        Y -= 1\n",
    "        M += 12\n",
    "    end\n",
    "    \n",
    "    A = Y ÷ 100\n",
    "    B = 2 - A + A ÷ 4\n",
    "    \n",
    "    floor(365.25 * (Y + 4716)) + floor(30.6001 * (M + 1)) + D + B - 1524.5    \n",
    "end\n",
    "\n",
    "function dayofweek(year, month, date)\n",
    "    daynames[mod(Integer(1.5 + julian_day(year, month, date)), 7)]    \n",
    "end\n",
    "\n",
    "end"
   ]
  },
  {
   "cell_type": "markdown",
   "metadata": {},
   "source": [
    "## Doomsday Algorithm\n",
    "\n",
    "This method was devised by John Conway with inspiration from Martin Gardner and Lewis Carroll. It observes that there are easily-remembered dates that all fall on the same day of the week as each other in a given year. It then finds that ‘doomsday’ for a given year, and the offset from an adjacent date to the date of interest."
   ]
  },
  {
   "cell_type": "code",
   "execution_count": 4,
   "metadata": {},
   "outputs": [
    {
     "data": {
      "text/plain": [
       "Main.Conway"
      ]
     },
     "execution_count": 4,
     "metadata": {},
     "output_type": "execute_result"
    }
   ],
   "source": [
    "module Conway\n",
    "using Main.CalendarUtil\n",
    "\n",
    "function dayofweek(year, month, date)\n",
    "    centuryDay = Dict(16 => 2, 17 => 0, 18 => 5, 19 => 3, 20 => 2, 21 => 0)\n",
    "    doomsday = Dict(3 => 0, 4 => 4, 5 => 9, 6 => 6, 7 => 11, 8 => 8, 9 => 5, 10 => 10, 11 => 7, 12 => 12)\n",
    "    doomsday[1] = isleapyear(year) ? 4 : 3 # doomsdays for January and February differ in leap years\n",
    "    doomsday[2] = isleapyear(year) ? 29 : 28\n",
    "    cc, yy = divrem(year, 100) # 1971 => 19, 71\n",
    "\n",
    "    thumb = mod(date - doomsday[month], 7) # Doomsday Difference\n",
    "    index = centuryDay[cc] # Century Day\n",
    "    middle = div(yy, 12) # Number of Dozens\n",
    "    ring = rem(yy, 12) # Remainder\n",
    "    pinkie = div(ring, 4) # Leap Years in Remainder\n",
    "    \n",
    "    daynames[mod(thumb + index + middle + ring + pinkie, 7)]\n",
    "end\n",
    "\n",
    "end"
   ]
  },
  {
   "cell_type": "markdown",
   "metadata": {},
   "source": [
    "## Lewis Carroll’s Method\n",
    "\n",
    "This method was published as a [short article](https://www.nature.com/articles/035517a0) in Nature in 1887."
   ]
  },
  {
   "cell_type": "code",
   "execution_count": 6,
   "metadata": {},
   "outputs": [
    {
     "data": {
      "text/plain": [
       "Main.Carroll"
      ]
     },
     "execution_count": 6,
     "metadata": {},
     "output_type": "execute_result"
    }
   ],
   "source": [
    "module Carroll\n",
    "using Main.CalendarUtil\n",
    "\n",
    "function dayofweek(year, month, date)\n",
    "    cc, yy = divrem(year, 100) # 1971 => 19, 71\n",
    "    centuryItem = 2 * (3 - rem(cc, 4))\n",
    "    dozens, overplus = divrem(yy, 12)\n",
    "    yearItem = dozens + overplus + div(overplus, 4)\n",
    "    forMonth = Dict(1 => 0, 2 => 3, 3 => 3, 4 => 6, 5 => 1, 6 => 4, 7 => 6, 8 => 2, 9 => 5, 10 => 0, 11 => 3, 12 => 5)\n",
    "    monthItem = forMonth[month]\n",
    "    dayItem = date\n",
    "    total = centuryItem + yearItem + monthItem + dayItem\n",
    "    if isleapyear(year) && month < 3\n",
    "        total -= 1\n",
    "    end\n",
    "    daynames[mod(total, 7)]\n",
    "end\n",
    "\n",
    "end"
   ]
  },
  {
   "cell_type": "markdown",
   "metadata": {},
   "source": [
    "## System Date Library\n",
    "\n",
    "We can also use the `Dates` module in Julia’s Standard Library for this task."
   ]
  },
  {
   "cell_type": "code",
   "execution_count": 8,
   "metadata": {},
   "outputs": [
    {
     "data": {
      "text/plain": [
       "Main.SysLib"
      ]
     },
     "execution_count": 8,
     "metadata": {},
     "output_type": "execute_result"
    }
   ],
   "source": [
    "module SysLib\n",
    "using Dates\n",
    "\n",
    "function dayofweek(year, month, date)\n",
    "    Dates.dayname(Date(year, month, date))\n",
    "end\n",
    "\n",
    "end"
   ]
  },
  {
   "cell_type": "code",
   "execution_count": 9,
   "metadata": {},
   "outputs": [
    {
     "data": {
      "text/plain": [
       "\"Friday\""
      ]
     },
     "execution_count": 9,
     "metadata": {},
     "output_type": "execute_result"
    }
   ],
   "source": [
    "SysLib.dayofweek(1971, 10, 22)"
   ]
  },
  {
   "cell_type": "markdown",
   "metadata": {},
   "source": [
    "## Results\n",
    "\n",
    "To find the answer to the given problem, we compute the day of the week for the first day of each month of interest and count how many of them are Sundays. To use all of our implementations, we’ll use a function that takes a ‘day of week’ function as a parameter. They should all give the same result!"
   ]
  },
  {
   "cell_type": "code",
   "execution_count": 10,
   "metadata": {},
   "outputs": [
    {
     "data": {
      "text/plain": [
       "p19 (generic function with 1 method)"
      ]
     },
     "execution_count": 10,
     "metadata": {},
     "output_type": "execute_result"
    }
   ],
   "source": [
    "function p19(dow)\n",
    "    length(filter(isequal(\"Sunday\"),[dow(y, m, 1) for y in 1901:2000, m in 1:12]))\n",
    "end"
   ]
  },
  {
   "cell_type": "code",
   "execution_count": 11,
   "metadata": {},
   "outputs": [
    {
     "data": {
      "text/plain": [
       "171"
      ]
     },
     "execution_count": 11,
     "metadata": {},
     "output_type": "execute_result"
    }
   ],
   "source": [
    "p19(Meeus.dayofweek)"
   ]
  },
  {
   "cell_type": "code",
   "execution_count": 12,
   "metadata": {},
   "outputs": [
    {
     "data": {
      "text/plain": [
       "171"
      ]
     },
     "execution_count": 12,
     "metadata": {},
     "output_type": "execute_result"
    }
   ],
   "source": [
    "p19(Conway.dayofweek)"
   ]
  },
  {
   "cell_type": "code",
   "execution_count": 13,
   "metadata": {},
   "outputs": [
    {
     "data": {
      "text/plain": [
       "171"
      ]
     },
     "execution_count": 13,
     "metadata": {},
     "output_type": "execute_result"
    }
   ],
   "source": [
    "p19(Carroll.dayofweek)"
   ]
  },
  {
   "cell_type": "code",
   "execution_count": 14,
   "metadata": {},
   "outputs": [
    {
     "data": {
      "text/plain": [
       "171"
      ]
     },
     "execution_count": 14,
     "metadata": {},
     "output_type": "execute_result"
    }
   ],
   "source": [
    "p19(SysLib.dayofweek)"
   ]
  }
 ],
 "metadata": {
  "kernelspec": {
   "display_name": "Julia 1.4.1",
   "language": "julia",
   "name": "julia-1.4"
  },
  "language_info": {
   "file_extension": ".jl",
   "mimetype": "application/julia",
   "name": "julia",
   "version": "1.4.1"
  }
 },
 "nbformat": 4,
 "nbformat_minor": 4
}
