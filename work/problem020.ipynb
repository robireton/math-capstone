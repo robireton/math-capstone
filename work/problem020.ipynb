{
 "cells": [
  {
   "cell_type": "markdown",
   "metadata": {},
   "source": [
    "# [Factorial digit sum](https://projecteuler.net/problem=20)\n",
    "<blockquote>\n",
    "<p><i>n</i>! means <i>n</i> × (<i>n</i> − 1) × ... × 3 × 2 × 1</p>\n",
    "<p>For example, 10! = 10 × 9 × ... × 3 × 2 × 1 = 3628800,<br />and the sum of the digits in the number 10! is 3 + 6 + 2 + 8 + 8 + 0 + 0 = 27.</p>\n",
    "<p>Find the sum of the digits in the number 100!</p>\n",
    "</blockquote>"
   ]
  },
  {
   "cell_type": "markdown",
   "metadata": {},
   "source": [
    "I want to talk a little about how amazing it is that I can get the answer to this problem by just writing:"
   ]
  },
  {
   "cell_type": "code",
   "execution_count": 1,
   "metadata": {},
   "outputs": [
    {
     "data": {
      "text/plain": [
       "648"
      ]
     },
     "execution_count": 1,
     "metadata": {},
     "output_type": "execute_result"
    }
   ],
   "source": [
    "(sum ∘ digits ∘ factorial ∘ big)(100)"
   ]
  },
  {
   "cell_type": "markdown",
   "metadata": {},
   "source": [
    "It hasn’t been too many years since the idea of just *computing* $100!$ was rediculous. That number is 158 digits long and would need 525 bits to represent."
   ]
  },
  {
   "cell_type": "code",
   "execution_count": 2,
   "metadata": {},
   "outputs": [
    {
     "data": {
      "text/plain": [
       "(158, 525.0)"
      ]
     },
     "execution_count": 2,
     "metadata": {},
     "output_type": "execute_result"
    }
   ],
   "source": [
    "(length ∘ digits ∘ factorial ∘ big)(100), (ceil ∘ log2 ∘ factorial ∘ big)(100)"
   ]
  },
  {
   "cell_type": "markdown",
   "metadata": {},
   "source": [
    "Compare that to the 16 or maybe 32 bits available for integers in the machines I started programming on, or even the 64 or maybe 128 bits available now. One of the things that makes this computation possible is the inclusion of [The GNU Multiple Precision Arithmetic Library](https://gmplib.org/) in many modern programming languages, including Julia. That’s the source of the `big` in the four-function composition that gives the answer. It’s also where the implementation of `factorial` comes from, although Julia does provide an integer implementation for small values. In the past I would have needed to write my own implementation, choosing a recursive or an interative algorithm and having to find some clever work-around to keep from overflowing machine integers.\n",
    "\n",
    "I would also have had to implement `digits` myself, probably by repeatedly finding the residual modulo $10$. Same for `sum`. That would have needed a loop and an accumulator variable. Instead, I get to compose four functions (using a mathy operator!) and, *Bob’s your uncle*. Alternatively, I could have used function chaining notation for a more Unix-like and less Math-like look:"
   ]
  },
  {
   "cell_type": "code",
   "execution_count": 3,
   "metadata": {},
   "outputs": [
    {
     "data": {
      "text/plain": [
       "648"
      ]
     },
     "execution_count": 3,
     "metadata": {},
     "output_type": "execute_result"
    }
   ],
   "source": [
    "100 |> big |> factorial |> digits |> sum"
   ]
  },
  {
   "cell_type": "markdown",
   "metadata": {},
   "source": [
    "Amazing!"
   ]
  }
 ],
 "metadata": {
  "kernelspec": {
   "display_name": "Julia 1.4.1",
   "language": "julia",
   "name": "julia-1.4"
  },
  "language_info": {
   "file_extension": ".jl",
   "mimetype": "application/julia",
   "name": "julia",
   "version": "1.4.1"
  }
 },
 "nbformat": 4,
 "nbformat_minor": 4
}
