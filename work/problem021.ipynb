{
 "cells": [
  {
   "cell_type": "markdown",
   "metadata": {},
   "source": [
    "# Amicable numbers\n",
    "\n",
    "> Let d(n) be defined as the sum of proper divisors of n (numbers less than n which divide evenly into n).\n",
    "> If d(a) = b and d(b) = a, where a ≠ b, then a and b are an amicable pair and each of a and b are called amicable numbers.\n",
    ">\n",
    "> For example, the proper divisors of 220 are 1, 2, 4, 5, 10, 11, 20, 22, 44, 55 and 110; therefore d(220) = 284. The proper divisors of 284 are 1, 2, 4, 71 and 142; so d(284) = 220.\n",
    ">\n",
    "> Evaluate the sum of all the amicable numbers under 10000.\n"
   ]
  },
  {
   "cell_type": "code",
   "execution_count": 10,
   "metadata": {},
   "outputs": [
    {
     "data": {
      "text/plain": [
       "d (generic function with 1 method)"
      ]
     },
     "execution_count": 10,
     "metadata": {},
     "output_type": "execute_result"
    }
   ],
   "source": [
    "# an a divides b operator\n",
    "divides(a, b) = rem(b, a) == 0\n",
    "| = divides\n",
    "d(n) = sum(x for x = 1:n-1 if x|n)"
   ]
  },
  {
   "cell_type": "code",
   "execution_count": 22,
   "metadata": {},
   "outputs": [
    {
     "name": "stdout",
     "output_type": "stream",
     "text": [
      "(220, 284)\n",
      "(1184, 1210)\n",
      "(2620, 2924)\n",
      "(5020, 5564)\n",
      "(6232, 6368)\n"
     ]
    },
    {
     "data": {
      "text/plain": [
       "31626"
      ]
     },
     "execution_count": 22,
     "metadata": {},
     "output_type": "execute_result"
    }
   ],
   "source": [
    "let m = 10000\n",
    "    A = Set()\n",
    "    B = Set()\n",
    "    for n in 2:m-1\n",
    "        n ∈ A && continue # we know n is amicable\n",
    "        n ∈ B && continue # we know n is not amicable\n",
    "        a = d(n)\n",
    "        b = d(a)\n",
    "        if n == b && n != a\n",
    "            union!(A, [n, a])\n",
    "            println((n, a))\n",
    "        else\n",
    "            union!(B, [n, a])\n",
    "        end\n",
    "    end\n",
    "    sum(A)\n",
    "end"
   ]
  },
  {
   "cell_type": "code",
   "execution_count": null,
   "metadata": {},
   "outputs": [],
   "source": []
  }
 ],
 "metadata": {
  "kernelspec": {
   "display_name": "Julia 1.4.1",
   "language": "julia",
   "name": "julia-1.4"
  },
  "language_info": {
   "file_extension": ".jl",
   "mimetype": "application/julia",
   "name": "julia",
   "version": "1.4.1"
  }
 },
 "nbformat": 4,
 "nbformat_minor": 4
}
