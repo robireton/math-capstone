{
 "cells": [
  {
   "cell_type": "markdown",
   "metadata": {},
   "source": [
    "# Amicable numbers\n",
    "\n",
    "> Let d(n) be defined as the sum of proper divisors of n (numbers less than n which divide evenly into n).\n",
    "> If d(a) = b and d(b) = a, where a ≠ b, then a and b are an amicable pair and each of a and b are called amicable numbers.\n",
    ">\n",
    "> For example, the proper divisors of 220 are 1, 2, 4, 5, 10, 11, 20, 22, 44, 55 and 110; therefore d(220) = 284. The proper divisors of 284 are 1, 2, 4, 71 and 142; so d(284) = 220.\n",
    ">\n",
    "> Evaluate the sum of all the amicable numbers under 10000.\n"
   ]
  },
  {
   "cell_type": "markdown",
   "metadata": {},
   "source": [
    "In Julia, most operators are just syntatic sugar on top of function calls. Like other system functions, they can be overridden if desired. We’ll start by defining a  function that returns true if the first parameter divides the second. Then we’ll assign that function to the `|` binary infix operator. This lets us implement the ‘sum of proper divisors’ function `d(n)` in a way that looks nice."
   ]
  },
  {
   "cell_type": "code",
   "execution_count": 2,
   "metadata": {},
   "outputs": [
    {
     "data": {
      "text/plain": [
       "d (generic function with 1 method)"
      ]
     },
     "execution_count": 2,
     "metadata": {},
     "output_type": "execute_result"
    }
   ],
   "source": [
    "# an ‘a divides b’ operator\n",
    "divides(a, b) = rem(b, a) == 0\n",
    "| = divides\n",
    "d(n) = sum(x for x = 1:n-1 if x|n)"
   ]
  },
  {
   "cell_type": "markdown",
   "metadata": {},
   "source": [
    "Next, we’ll start checking the numbers under 10,000 to see if they are part of an amicable pair. We’ll keep track of numbers and divisor sums we’ve already checked to save a little computation."
   ]
  },
  {
   "cell_type": "code",
   "execution_count": 10,
   "metadata": {},
   "outputs": [
    {
     "name": "stdout",
     "output_type": "stream",
     "text": [
      "220 and 284 are an amicable pair\n",
      "1184 and 1210 are an amicable pair\n",
      "2620 and 2924 are an amicable pair\n",
      "5020 and 5564 are an amicable pair\n",
      "6232 and 6368 are an amicable pair\n",
      "did 8872 of 9998 iterations\n"
     ]
    },
    {
     "data": {
      "text/plain": [
       "31626"
      ]
     },
     "execution_count": 10,
     "metadata": {},
     "output_type": "execute_result"
    }
   ],
   "source": [
    "let m = 10_000\n",
    "    A = Set()\n",
    "    B = Set()\n",
    "    i = 0\n",
    "    for n in 2:m-1\n",
    "        n ∈ A && continue # we know n is amicable\n",
    "        n ∈ B && continue # we know n is not amicable\n",
    "        a = d(n)\n",
    "        b = d(a)\n",
    "        if n == b && n != a\n",
    "            println(\"$n and $a are an amicable pair\")\n",
    "            union!(A, [n, a])\n",
    "        else\n",
    "            union!(B, [n, a])\n",
    "        end\n",
    "        i += 1\n",
    "    end\n",
    "    println(\"did $i of $(m-2) iterations\")\n",
    "    sum(A)\n",
    "end"
   ]
  },
  {
   "cell_type": "markdown",
   "metadata": {},
   "source": [
    "## Results\n",
    "\n",
    "The pairs we found match those listed in [The On-Line Encyclopedia of Integer Sequences: A063990](https://oeis.org/A063990). We were able to skip 1126, or about 10%, of computations we might have done."
   ]
  },
  {
   "cell_type": "code",
   "execution_count": null,
   "metadata": {},
   "outputs": [],
   "source": []
  }
 ],
 "metadata": {
  "kernelspec": {
   "display_name": "Julia 1.4.1",
   "language": "julia",
   "name": "julia-1.4"
  },
  "language_info": {
   "file_extension": ".jl",
   "mimetype": "application/julia",
   "name": "julia",
   "version": "1.4.1"
  }
 },
 "nbformat": 4,
 "nbformat_minor": 4
}
