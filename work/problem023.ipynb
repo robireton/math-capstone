{
 "cells": [
  {
   "cell_type": "markdown",
   "metadata": {},
   "source": [
    "# Non-abundant sums\n",
    "\n",
    "> A perfect number is a number for which the sum of its proper divisors is exactly equal to the number. For example, the sum of the proper divisors of $28$ would be $1 + 2 + 4 + 7 + 14 = 28$, which means that $28$ is a perfect number.\n",
    "> \n",
    "> A number $n$ is called deficient if the sum of its proper divisors is less than $n$ and it is called abundant if this sum exceeds $n$.\n",
    "> \n",
    "> As $12$ is the smallest abundant number, $1 + 2 + 3 + 4 + 6 = 16$, the smallest number that can be written as the sum of two abundant numbers is $24$. By mathematical analysis, it can be shown that all integers greater than $28123$ can be written as the sum of two abundant numbers. However, this upper limit cannot be reduced any further by analysis even though it is known that the greatest number that cannot be expressed as the sum of two abundant numbers is less than this limit.\n",
    "> \n",
    "> Find the sum of all the positive integers which cannot be written as the sum of two abundant numbers."
   ]
  },
  {
   "cell_type": "markdown",
   "metadata": {},
   "source": [
    "Start by defining an `isabundant` predicate using code borrowed from [Problem 21](./problem021.ipynb) (Amicable Numbers) and streamlining it a little bit, because any excuse to refactor…"
   ]
  },
  {
   "cell_type": "code",
   "execution_count": 1,
   "metadata": {},
   "outputs": [
    {
     "data": {
      "text/plain": [
       "isabundant (generic function with 1 method)"
      ]
     },
     "execution_count": 1,
     "metadata": {},
     "output_type": "execute_result"
    }
   ],
   "source": [
    "|(a, b) = rem(b, a) == 0\n",
    "d(n) = sum(x for x ∈ 1:n÷2 if x|n)\n",
    "isabundant(n) = d(n) > n"
   ]
  },
  {
   "cell_type": "markdown",
   "metadata": {},
   "source": [
    "Now do some set operations, starting by constructing a set of abundant numbers that covers the needed sizes."
   ]
  },
  {
   "cell_type": "code",
   "execution_count": 2,
   "metadata": {},
   "outputs": [
    {
     "data": {
      "text/plain": [
       "Set{Int64} with 6965 elements:\n",
       "  26380\n",
       "  11532\n",
       "  6380\n",
       "  1316\n",
       "  25596\n",
       "  23364\n",
       "  4460\n",
       "  13120\n",
       "  14400\n",
       "  3120\n",
       "  10440\n",
       "  16392\n",
       "  6336\n",
       "  1662\n",
       "  20368\n",
       "  19698\n",
       "  10134\n",
       "  22896\n",
       "  16520\n",
       "  22032\n",
       "  10458\n",
       "  18970\n",
       "  25890\n",
       "  25568\n",
       "  12840\n",
       "  ⋮ "
      ]
     },
     "execution_count": 2,
     "metadata": {},
     "output_type": "execute_result"
    }
   ],
   "source": [
    "A = Set(x for x ∈ 12:28123 if isabundant(x))"
   ]
  },
  {
   "cell_type": "markdown",
   "metadata": {},
   "source": [
    "Next, construct a set of numbers that *are* the sum of two abundant numbers."
   ]
  },
  {
   "cell_type": "code",
   "execution_count": 3,
   "metadata": {},
   "outputs": [
    {
     "data": {
      "text/plain": [
       "Set{Int64} with 26667 elements:\n",
       "  15769\n",
       "  13575\n",
       "  10094\n",
       "  22035\n",
       "  6265\n",
       "  9934\n",
       "  21807\n",
       "  8805\n",
       "  13120\n",
       "  3120\n",
       "  9911\n",
       "  11942\n",
       "  20368\n",
       "  19698\n",
       "  10458\n",
       "  16429\n",
       "  25568\n",
       "  7237\n",
       "  25786\n",
       "  23940\n",
       "  17959\n",
       "  27248\n",
       "  14010\n",
       "  12377\n",
       "  7514\n",
       "  ⋮ "
      ]
     },
     "execution_count": 3,
     "metadata": {},
     "output_type": "execute_result"
    }
   ],
   "source": [
    "B = Set(a+b for a ∈ A, b ∈ A if a+b <= 28123)"
   ]
  },
  {
   "cell_type": "markdown",
   "metadata": {},
   "source": [
    "Then, the set of numbers *not* the sum of two abundant numbers. (We know these are not greater than 28123.)"
   ]
  },
  {
   "cell_type": "code",
   "execution_count": 4,
   "metadata": {},
   "outputs": [
    {
     "data": {
      "text/plain": [
       "1456-element Array{Int64,1}:\n",
       "     1\n",
       "     2\n",
       "     3\n",
       "     4\n",
       "     5\n",
       "     6\n",
       "     7\n",
       "     8\n",
       "     9\n",
       "    10\n",
       "    11\n",
       "    12\n",
       "    13\n",
       "     ⋮\n",
       " 13879\n",
       " 14143\n",
       " 14251\n",
       " 14297\n",
       " 15371\n",
       " 15557\n",
       " 16187\n",
       " 17261\n",
       " 17891\n",
       " 18437\n",
       " 19067\n",
       " 20161"
      ]
     },
     "execution_count": 4,
     "metadata": {},
     "output_type": "execute_result"
    }
   ],
   "source": [
    "C = setdiff(1:28123, B)"
   ]
  },
  {
   "cell_type": "markdown",
   "metadata": {},
   "source": [
    "Finally, add up the members of that last set to get the required sum."
   ]
  },
  {
   "cell_type": "code",
   "execution_count": 5,
   "metadata": {},
   "outputs": [
    {
     "data": {
      "text/plain": [
       "4179871"
      ]
     },
     "execution_count": 5,
     "metadata": {},
     "output_type": "execute_result"
    }
   ],
   "source": [
    "sum(C)"
   ]
  },
  {
   "cell_type": "code",
   "execution_count": 6,
   "metadata": {},
   "outputs": [],
   "source": [
    "@assert sum(C) == 4179871 \"Whoops\""
   ]
  }
 ],
 "metadata": {
  "kernelspec": {
   "display_name": "Julia 1.4.1",
   "language": "julia",
   "name": "julia-1.4"
  },
  "language_info": {
   "file_extension": ".jl",
   "mimetype": "application/julia",
   "name": "julia",
   "version": "1.4.1"
  }
 },
 "nbformat": 4,
 "nbformat_minor": 4
}
