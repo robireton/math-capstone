{
 "cells": [
  {
   "cell_type": "markdown",
   "metadata": {},
   "source": [
    "# [Lexicographic permutations](https://projecteuler.net/problem=24)\n",
    "\n",
    "<blockquote>\n",
    "<p>A permutation is an ordered arrangement of objects. For example, 3124 is one possible permutation of the digits 1, 2, 3 and 4. If all of the permutations are listed numerically or alphabetically, we call it lexicographic order. The lexicographic permutations of 0, 1 and 2 are:</p>\n",
    "<p style=\"text-align:center;\">012   021   102   120   201   210</p>\n",
    "<p>What is the millionth lexicographic permutation of the digits 0, 1, 2, 3, 4, 5, 6, 7, 8 and 9?</p>\n",
    "</blockquote>"
   ]
  },
  {
   "cell_type": "markdown",
   "metadata": {},
   "source": [
    "Let’s start by trying to reproduce the example:"
   ]
  },
  {
   "cell_type": "code",
   "execution_count": 1,
   "metadata": {},
   "outputs": [
    {
     "name": "stdout",
     "output_type": "stream",
     "text": [
      "012\n",
      "021\n",
      "102\n",
      "120\n",
      "201\n",
      "210\n"
     ]
    }
   ],
   "source": [
    "D = '0':'2'\n",
    "for a ∈ D, b ∈ D, c ∈ D\n",
    "    P = [a, b, c]\n",
    "    allunique(P) && (println ∘ join)(P)\n",
    "end"
   ]
  },
  {
   "cell_type": "markdown",
   "metadata": {},
   "source": [
    "Loop through all the digits in order. Print them out when each appears just once. Easy.\n",
    "\n",
    "Can I just adapt this to ten digits instead of three? That *would* be $10^{10}$ iterations, but maybe the compiler will be able to optimize it to run in a reasonable amount of time."
   ]
  },
  {
   "cell_type": "code",
   "execution_count": 2,
   "metadata": {},
   "outputs": [
    {
     "ename": "InterruptException",
     "evalue": "InterruptException:",
     "output_type": "error",
     "traceback": [
      "InterruptException:",
      "",
      "Stacktrace:",
      " [1] Array at ./boot.jl:405 [inlined]",
      " [2] Array at ./boot.jl:414 [inlined]",
      " [3] zeros at ./array.jl:504 [inlined]",
      " [4] zeros at ./array.jl:500 [inlined]",
      " [5] Dict{Char,Nothing}() at ./dict.jl:90",
      " [6] Set at ./set.jl:6 [inlined]",
      " [7] allunique(::Array{Char,1}) at ./set.jl:365",
      " [8] top-level scope at ./In[2]:5"
     ]
    }
   ],
   "source": [
    "D = '0':'9'\n",
    "n = 0\n",
    "for a ∈ D, b ∈ D, c ∈ D, d ∈ D, e ∈ D, f ∈ D, g ∈ D, h ∈ D, i ∈ D, j ∈ D\n",
    "    P = [a, b, c, d, e, f, g, h, i, j]\n",
    "    if allunique(P)\n",
    "        n += 1\n",
    "        if n == 1_000_000\n",
    "            (println ∘ join)(P)\n",
    "            break\n",
    "        end\n",
    "    end\n",
    "end"
   ]
  },
  {
   "cell_type": "markdown",
   "metadata": {},
   "source": [
    "Hmmm… nothing happening, fans spinning up, still nothing happening… OK, time to abort and try another approach.\n",
    "\n",
    "Let’s increase the number of digits by one and see if a pattern emerges."
   ]
  },
  {
   "cell_type": "code",
   "execution_count": 3,
   "metadata": {},
   "outputs": [
    {
     "name": "stdout",
     "output_type": "stream",
     "text": [
      "0123\n",
      "0132\n",
      "0213\n",
      "0231\n",
      "0312\n",
      "0321\n",
      "1023\n",
      "1032\n",
      "1203\n",
      "1230\n",
      "1302\n",
      "1320\n",
      "2013\n",
      "2031\n",
      "2103\n",
      "2130\n",
      "2301\n",
      "2310\n",
      "3012\n",
      "3021\n",
      "3102\n",
      "3120\n",
      "3201\n",
      "3210\n"
     ]
    }
   ],
   "source": [
    "D = '0':'3'\n",
    "for a ∈ D, b ∈ D, c ∈ D, d ∈ D\n",
    "    P = [a, b, c, d]\n",
    "    allunique(P) && (println ∘ join)(P)\n",
    "end"
   ]
  },
  {
   "cell_type": "code",
   "execution_count": 4,
   "metadata": {},
   "outputs": [
    {
     "name": "stdout",
     "output_type": "stream",
     "text": [
      "01234\n",
      "01243\n",
      "01324\n",
      "01342\n",
      "01423\n",
      "01432\n",
      "02134\n",
      "02143\n",
      "02314\n",
      "02341\n",
      "02413\n",
      "02431\n",
      "03124\n",
      "03142\n",
      "03214\n",
      "03241\n",
      "03412\n",
      "03421\n",
      "04123\n",
      "04132\n",
      "04213\n",
      "04231\n",
      "04312\n",
      "04321\n",
      "10234\n",
      "10243\n",
      "10324\n",
      "10342\n",
      "10423\n",
      "10432\n",
      "12034\n",
      "12043\n",
      "12304\n",
      "12340\n",
      "12403\n",
      "12430\n",
      "13024\n",
      "13042\n",
      "13204\n",
      "13240\n",
      "13402\n",
      "13420\n",
      "14023\n",
      "14032\n",
      "14203\n",
      "14230\n",
      "14302\n",
      "14320\n",
      "20134\n",
      "20143\n",
      "20314\n",
      "20341\n",
      "20413\n",
      "20431\n",
      "21034\n",
      "21043\n",
      "21304\n",
      "21340\n",
      "21403\n",
      "21430\n",
      "23014\n",
      "23041\n",
      "23104\n",
      "23140\n",
      "23401\n",
      "23410\n",
      "24013\n",
      "24031\n",
      "24103\n",
      "24130\n",
      "24301\n",
      "24310\n",
      "30124\n",
      "30142\n",
      "30214\n",
      "30241\n",
      "30412\n",
      "30421\n",
      "31024\n",
      "31042\n",
      "31204\n",
      "31240\n",
      "31402\n",
      "31420\n",
      "32014\n",
      "32041\n",
      "32104\n",
      "32140\n",
      "32401\n",
      "32410\n",
      "34012\n",
      "34021\n",
      "34102\n",
      "34120\n",
      "34201\n",
      "34210\n",
      "40123\n",
      "40132\n",
      "40213\n",
      "40231\n",
      "40312\n",
      "40321\n",
      "41023\n",
      "41032\n",
      "41203\n",
      "41230\n",
      "41302\n",
      "41320\n",
      "42013\n",
      "42031\n",
      "42103\n",
      "42130\n",
      "42301\n",
      "42310\n",
      "43012\n",
      "43021\n",
      "43102\n",
      "43120\n",
      "43201\n",
      "43210\n"
     ]
    }
   ],
   "source": [
    "D = '0':'4'\n",
    "for a ∈ D, b ∈ D, c ∈ D, d ∈ D, e ∈ D\n",
    "    P = [a, b, c, d, e]\n",
    "    allunique(P) && (println ∘ join)(P)\n",
    "end"
   ]
  },
  {
   "cell_type": "markdown",
   "metadata": {},
   "source": [
    "OK, the 5th digit appears in runs of 24, the 4th in runs of 6, the 3rd in 2, and the 2nd and 1st in 1. In increasing order: 1, 1, 2, 6, 24, …. That sounds familiar. Let’s see what [OEIS has to say about that](https://oeis.org/search?q=1%2C1%2C2%2C6%2C24):\n",
    "\n",
    "<blockquote>\n",
    "<table>\n",
    "<tbody>\n",
    "<tr>\n",
    "  <td><a href=\"https://oeis.org/A000142\">A000142</a></td>\n",
    "  <td>Factorial numbers: <i>n</i>! = 1×2×3×4× … ×<i>n</i> (order of symmetric group <i>S<sub>n</sub></i>, number of permutations of <i>n</i> letters).</td>\n",
    "</tr>\n",
    "<tr>\n",
    "<td colspan=\"2\"><b>1, 1, 2, 6, 24</b>, 120, 720, 5040, 40320, 362880,\n",
    "3628800, 39916800, 479001600, 6227020800, 87178291200, 1307674368000, 20922789888000, 355687428096000,\n",
    "6402373705728000, 121645100408832000, 2432902008176640000, 51090942171709440000, 1124000727777607680000\n",
    "<span style=\"font-size: smaller\">(\n",
    "  <a href=\"https://oeis.org/A000142/list\">list</a>;\n",
    "  <a href=\"https://oeis.org/A000142/graph\">graph</a>;\n",
    "  <a href=\"https://oeis.org/search?q=A000142+-id:A000142\">refs</a>;\n",
    "  <a href=\"https://oeis.org/A000142/listen\">listen</a>;\n",
    "  <a href=\"https://oeis.org/history?seq=A000142\">history</a>;\n",
    "  <a href=\"https://oeis.org/search?q=id:A000142&amp;fmt=text\">text</a>;\n",
    "  <a href=\"https://oeis.org/A000142/internal\">internal format</a>\n",
    "  )</span>\n",
    "</td>\n",
    "</tr>\n",
    "</tbody>\n",
    "</table>\n",
    "</blockquote>\n",
    "\n",
    "Of course! Factorials make sense: $n$ choices for the first digit, $n-1$ for the next, etc.\n",
    "\n",
    "So, for the left-most digit, they repeat in runs of $(m-1)!$ where $m$ is the number of digits. If we’re looking for the $n$th permutation that digit should be at position $n \\div (m-1)!$ (*integer division, zero-based indexing*) in the list of available digits. The we need to remove that digit from the list and look for the $n \\% (m-1)!$th permutation in that list. "
   ]
  },
  {
   "cell_type": "code",
   "execution_count": 5,
   "metadata": {},
   "outputs": [
    {
     "data": {
      "text/plain": [
       "\"2783915460\""
      ]
     },
     "execution_count": 5,
     "metadata": {},
     "output_type": "execute_result"
    }
   ],
   "source": [
    "function pick(n, S)\n",
    "    s = length(S) - 1\n",
    "    s > 0 || return S[1]\n",
    "    f = factorial(s)\n",
    "    a, b = divrem(n, f)\n",
    "    d = S[1+a]\n",
    "    string(d, pick(b, setdiff(S, [d])))\n",
    "end\n",
    "\n",
    "pick(999999, collect('0':'9')) # 2783915460"
   ]
  },
  {
   "cell_type": "markdown",
   "metadata": {},
   "source": [
    "Great! Although, Julia’s penchant for 1-based indexing isn’t doing me any favors in this case… I wonder if there is a more Julia-idiomatic way of doing this…"
   ]
  },
  {
   "cell_type": "code",
   "execution_count": 6,
   "metadata": {},
   "outputs": [
    {
     "data": {
      "text/plain": [
       "\"2783915460\""
      ]
     },
     "execution_count": 6,
     "metadata": {},
     "output_type": "execute_result"
    }
   ],
   "source": [
    "using Combinatorics\n",
    "join(collect(permutations('0':'9'))[1_000_000])"
   ]
  },
  {
   "cell_type": "markdown",
   "metadata": {},
   "source": [
    "🙄"
   ]
  }
 ],
 "metadata": {
  "kernelspec": {
   "display_name": "Julia 1.4.1",
   "language": "julia",
   "name": "julia-1.4"
  },
  "language_info": {
   "file_extension": ".jl",
   "mimetype": "application/julia",
   "name": "julia",
   "version": "1.4.1"
  }
 },
 "nbformat": 4,
 "nbformat_minor": 4
}
