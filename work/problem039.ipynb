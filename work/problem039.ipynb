{
 "cells": [
  {
   "cell_type": "markdown",
   "metadata": {},
   "source": [
    "# Integer right triangles\n",
    "\n",
    "> If $p$ is the perimeter of a right angle triangle with integral length sides, $\\{a,b,c\\}$, there are exactly three solutions for $p = 120$.\n",
    "> \n",
    "> $\\{20,48,52\\}, \\{24,45,51\\}, \\{30,40,50\\}$\n",
    "> \n",
    "> For which value of $p \\le 1000$, is the number of solutions maximised?"
   ]
  },
  {
   "cell_type": "markdown",
   "metadata": {},
   "source": [
    "Looking at each distinct tuple of sides, $(a, b, c)$ with perimiter not greater than 1000 (we can assume $a < b < c$ with no loss of generality), if the triple is pythagorean, increment (initializing if necessary) the counter for that perimiter. Report the perimiter with the largest count of triples."
   ]
  },
  {
   "cell_type": "code",
   "execution_count": 1,
   "metadata": {},
   "outputs": [
    {
     "name": "stdout",
     "output_type": "stream",
     "text": [
      "  0.288535 seconds (1.48 k allocations: 50.609 KiB)\n"
     ]
    },
    {
     "data": {
      "text/plain": [
       "840"
      ]
     },
     "execution_count": 1,
     "metadata": {},
     "output_type": "execute_result"
    }
   ],
   "source": [
    "function p39(n)\n",
    "    S = Dict()\n",
    "    for a in 3:n-1, b in 4:n-1, c in 5:n-1\n",
    "        a < b < c || continue\n",
    "        p = a + b + c\n",
    "        p <= n || continue\n",
    "        if a^2 + b^2 == c^2\n",
    "            haskey(S, p) || (S[p] = 0)\n",
    "            S[p] += 1\n",
    "        end\n",
    "    end\n",
    "    argmax(S)\n",
    "end\n",
    "\n",
    "@time p39(1000)"
   ]
  },
  {
   "cell_type": "code",
   "execution_count": null,
   "metadata": {},
   "outputs": [],
   "source": []
  }
 ],
 "metadata": {
  "kernelspec": {
   "display_name": "Julia 1.4.1",
   "language": "julia",
   "name": "julia-1.4"
  },
  "language_info": {
   "file_extension": ".jl",
   "mimetype": "application/julia",
   "name": "julia",
   "version": "1.4.1"
  }
 },
 "nbformat": 4,
 "nbformat_minor": 4
}
