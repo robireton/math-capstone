{
 "cells": [
  {
   "cell_type": "markdown",
   "metadata": {},
   "source": [
    "# Goldbach’s other conjecture\n",
    "<blockquote>\n",
    "It was proposed by Christian Goldbach that every odd composite number can be written as the sum of a prime and twice a square.\n",
    "\n",
    "$\n",
    "\\begin{align}\n",
    "9 & = 7 + 2 \\times 1^2 \\\\\n",
    "15 & = 7 + 2 \\times 2^2 \\\\\n",
    "21 & = 3 + 2 \\times 3^2 \\\\\n",
    "25 & = 7 + 2 \\times 3^2 \\\\\n",
    "27 & = 19 + 2 \\times 2^2 \\\\\n",
    "33 & = 31 + 2 \\times 1^2\n",
    "\\end{align}\n",
    "$\n",
    "\n",
    "It turns out that the conjecture was false.\n",
    "\n",
    "What is the smallest odd composite that cannot be written as the sum of a prime and twice a square?\n",
    "</blockquote>"
   ]
  },
  {
   "cell_type": "markdown",
   "metadata": {},
   "source": [
    "Starting with $9$, check each odd composite number $n$ to see if it is the sum of a prime and twice a square. Only check primes less than $n$ and integers not greater than $\\sqrt{n / 2}$. If $n$ is not such a sum, we are done."
   ]
  },
  {
   "cell_type": "code",
   "execution_count": 4,
   "metadata": {},
   "outputs": [
    {
     "data": {
      "text/plain": [
       "5777"
      ]
     },
     "execution_count": 4,
     "metadata": {},
     "output_type": "execute_result"
    }
   ],
   "source": [
    "using Primes\n",
    "\n",
    "f(n) = any(n == p + 2 * b^2 for p in primes(n), b in 1:isqrt(n÷2))\n",
    "function g(n)\n",
    "    n += 2\n",
    "    while isprime(n) n += 2; end\n",
    "    n\n",
    "end\n",
    "\n",
    "n = 9\n",
    "while f(n)\n",
    "    n = g(n)\n",
    "end\n",
    "n"
   ]
  },
  {
   "cell_type": "code",
   "execution_count": null,
   "metadata": {},
   "outputs": [],
   "source": []
  }
 ],
 "metadata": {
  "kernelspec": {
   "display_name": "Julia 1.4.1",
   "language": "julia",
   "name": "julia-1.4"
  },
  "language_info": {
   "file_extension": ".jl",
   "mimetype": "application/julia",
   "name": "julia",
   "version": "1.4.1"
  }
 },
 "nbformat": 4,
 "nbformat_minor": 4
}
