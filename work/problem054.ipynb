{
 "cells": [
  {
   "cell_type": "markdown",
   "metadata": {},
   "source": [
    "# Poker hands\n",
    "\n",
    "<blockquote>\n",
    "<p>In the card game poker, a hand consists of five cards and are ranked, from lowest to highest, in the following way:</p>\n",
    "<ul><li><b>High Card</b>: Highest value card.</li>\n",
    "<li><b>One Pair</b>: Two cards of the same value.</li>\n",
    "<li><b>Two Pairs</b>: Two different pairs.</li>\n",
    "<li><b>Three of a Kind</b>: Three cards of the same value.</li>\n",
    "<li><b>Straight</b>: All cards are consecutive values.</li>\n",
    "<li><b>Flush</b>: All cards of the same suit.</li>\n",
    "<li><b>Full House</b>: Three of a kind and a pair.</li>\n",
    "<li><b>Four of a Kind</b>: Four cards of the same value.</li>\n",
    "<li><b>Straight Flush</b>: All cards are consecutive values of same suit.</li>\n",
    "<li><b>Royal Flush</b>: Ten, Jack, Queen, King, Ace, in same suit.</li>\n",
    "</ul><p>The cards are valued in the order:<br />2, 3, 4, 5, 6, 7, 8, 9, 10, Jack, Queen, King, Ace.</p>\n",
    "<p>If two players have the same ranked hands then the rank made up of the highest value wins; for example, a pair of eights beats a pair of fives (see example 1 below). But if two ranks tie, for example, both players have a pair of queens, then highest cards in each hand are compared (see example 4 below); if the highest cards tie then the next highest cards are compared, and so on.</p>\n",
    "<p>Consider the following five hands dealt to two players:</p>\n",
    "<div style=\"text-align:center;\">\n",
    "<table><tr><td><b>Hand</b></td><td> </td><td><b>Player 1</b></td><td> </td><td><b>Player 2</b></td><td> </td><td><b>Winner</b></td>\n",
    "</tr><tr><td style=\"vertical-align:top;\"><b>1</b></td><td> </td><td>5H 5C 6S 7S KD<br /><div class=\"note\">Pair of Fives</div></td><td> </td><td>2C 3S 8S 8D TD<br /><div class=\"note\">Pair of Eights</div></td><td> </td><td style=\"vertical-align:top;\">Player 2</td>\n",
    "</tr><tr><td style=\"vertical-align:top;\"><b>2</b></td><td> </td><td>5D 8C 9S JS AC<br /><div class=\"note\">Highest card Ace</div></td><td> </td><td>2C 5C 7D 8S QH<br /><div class=\"note\">Highest card Queen</div></td><td> </td><td style=\"vertical-align:top;\">Player 1</td>\n",
    "</tr><tr><td style=\"vertical-align:top;\"><b>3</b></td><td> </td><td>2D 9C AS AH AC<br /><div class=\"note\">Three Aces</div></td><td> </td><td>3D 6D 7D TD QD<br /><div class=\"note\">Flush  with Diamonds</div></td><td> </td><td style=\"vertical-align:top;\">Player 2</td>\n",
    "</tr><tr><td style=\"vertical-align:top;\"><b>4</b></td><td> </td><td>4D 6S 9H QH QC<br /><div class=\"note\">Pair of Queens<br />Highest card Nine</div></td><td> </td><td>3D 6D 7H QD QS<br /><div class=\"note\">Pair of Queens<br />Highest card Seven</div></td><td> </td><td style=\"vertical-align:top;\">Player 1</td>\n",
    "</tr><tr><td style=\"vertical-align:top;\"><b>5</b></td><td> </td><td>2H 2D 4C 4D 4S<br /><div class=\"note\">Full House<br />With Three Fours</div></td><td> </td><td>3C 3D 3S 9S 9D<br /><div class=\"note\">Full House<br />with Three Threes</div></td><td> </td><td style=\"vertical-align:top;\">Player 1</td>\n",
    "</tr></table></div>\n",
    "<p>The file, <a href=\"p054_poker.txt\">poker.txt</a>, contains one-thousand random hands dealt to two players. Each line of the file contains ten cards (separated by a single space): the first five are Player 1's cards and the last five are Player 2's cards. You can assume that all hands are valid (no invalid characters or repeated cards), each player's hand is in no specific order, and in each hand there is a clear winner.</p>\n",
    "<p>How many hands does Player 1 win?</p>\n",
    "</blockquote>"
   ]
  },
  {
   "cell_type": "markdown",
   "metadata": {},
   "source": [
    "Let’s define some types!\n",
    "\n",
    "While there are Unicode code points for individual playing cards, they are not arranged in a way that is convenient for this task. (Ace is low, all spades less than all hearts, all hearts less than all diamonds, etc.) For this task, keeping track of suits and ranks separately will be more felicitous. Maybe we can use the individual card characters for display purposes."
   ]
  },
  {
   "cell_type": "code",
   "execution_count": 1,
   "metadata": {},
   "outputs": [],
   "source": [
    "struct PokerCard\n",
    "    rank::UInt8\n",
    "    suit::Char\n",
    "    function PokerCard(s::String)\n",
    "        length(s) == 2 || DomainError(s)\n",
    "        ranks = Dict('2' => 0x00, '3' => 0x01, '4' => 0x02, '5' => 0x03, '6' => 0x04, '7' => 0x05, '8' => 0x06, '9' => 0x07, 'T' => 0x08, 'J' => 0x09, 'Q' => 0x0A, 'K' => 0x0B, 'A' => 0x0C)\n",
    "        haskey(ranks, s[1]) || DomainError(s[1])\n",
    "        suits = Dict('S' => '♠', 'H' => '♥', 'D' => '♦', 'C' => '♣')\n",
    "        haskey(suits, s[2]) || DomainError(s[2])\n",
    "\n",
    "        new(ranks[s[1]], suits[s[2]])\n",
    "    end\n",
    "end"
   ]
  },
  {
   "cell_type": "code",
   "execution_count": 2,
   "metadata": {},
   "outputs": [
    {
     "data": {
      "text/plain": [
       "PokerCard(0x0c, '♠')"
      ]
     },
     "execution_count": 2,
     "metadata": {},
     "output_type": "execute_result"
    }
   ],
   "source": [
    "PokerCard(\"AS\")"
   ]
  },
  {
   "cell_type": "markdown",
   "metadata": {},
   "source": [
    "That could use better display. We’ll define `show` methods. The documentation says, “As a rule of thumb, the single-line `show` method should print a valid Julia expression for creating the shown object.”"
   ]
  },
  {
   "cell_type": "code",
   "execution_count": 3,
   "metadata": {},
   "outputs": [],
   "source": [
    "function Base.show(io::IO, z::PokerCard)\n",
    "    ranks = Dict(0x00 => '2', 0x01 => '3', 0x02 => '4', 0x03 => '5', 0x04 => '6', 0x05 => '7', 0x06 => '8', 0x07 => '9', 0x08 => 'T', 0x09 => 'J', 0x0A => 'Q', 0x0B => 'K', 0x0C => 'A')\n",
    "    suits = Dict('♠' => 'S', '♥' => 'H', '♦' => 'D', '♣' => 'C')\n",
    "    print(io, string(ranks[z.rank], suits[z.suit]))\n",
    "end"
   ]
  },
  {
   "cell_type": "code",
   "execution_count": 4,
   "metadata": {},
   "outputs": [
    {
     "data": {
      "text/plain": [
       "AS"
      ]
     },
     "execution_count": 4,
     "metadata": {},
     "output_type": "execute_result"
    }
   ],
   "source": [
    "PokerCard(\"AS\")"
   ]
  },
  {
   "cell_type": "code",
   "execution_count": 5,
   "metadata": {},
   "outputs": [],
   "source": [
    "function Base.show(io::IO, ::MIME\"text/html\", z::PokerCard)\n",
    "    ranks = Dict(0x00 => '2', 0x01 => '3', 0x02 => '4', 0x03 => '5', 0x04 => '6', 0x05 => '7', 0x06 => '8', 0x07 => '9', 0x08 => 'T', 0x09 => 'J', 0x0A => 'Q', 0x0B => 'K', 0x0C => 'A')\n",
    "    ranknames = Dict(0x00 => \"Two\", 0x01 => \"Three\", 0x02 => \"Four\", 0x03 => \"Five\", 0x04 => \"Six\", 0x05 => \"Seven\", 0x06 => \"Eight\", 0x07 => \"Nine\", 0x08 => \"Ten\", 0x09 => \"Jack\", 0x0A => \"Queen\", 0x0B => \"King\", 0x0C => \"Ace\")\n",
    "    suits = Dict('♠' => \"Spades\", '♥' => \"Hearts\", '♦' => \"Diamonds\", '♣' => \"Clubs\")\n",
    "    colors = Dict('♠' => \"black\", '♥' => \"red\", '♦' => \"red\", '♣' => \"black\")\n",
    "    print(io, \"\"\"<span class=\"card $(colors[z.suit])\" title=\"$(ranknames[z.rank]) of $(suits[z.suit])\" style=\"border: 0.5px solid black;\"><span class=\"rank\">$(ranks[z.rank])</span><span class=\"suit\" style=\"color: $(colors[z.suit]);\">$(z.suit)</span></span>\"\"\")\n",
    "end"
   ]
  },
  {
   "cell_type": "code",
   "execution_count": 6,
   "metadata": {},
   "outputs": [
    {
     "data": {
      "text/html": [
       "<span class=\"card red\" title=\"Ace of Hearts\" style=\"border: 0.5px solid black;\"><span class=\"rank\">A</span><span class=\"suit\" style=\"color: red;\">♥</span></span>"
      ]
     },
     "metadata": {},
     "output_type": "display_data"
    }
   ],
   "source": [
    "display(\"text/html\", PokerCard(\"AH\"))\n"
   ]
  },
  {
   "cell_type": "markdown",
   "metadata": {},
   "source": [
    "OK, let’s define some comparison methods."
   ]
  },
  {
   "cell_type": "code",
   "execution_count": 7,
   "metadata": {},
   "outputs": [],
   "source": [
    "import Base: ==\n",
    "==(a::PokerCard, b::PokerCard) = a.rank == b.rank\n",
    "Base.isless(a::PokerCard, b::PokerCard) = isless(a.rank, b.rank)"
   ]
  },
  {
   "cell_type": "code",
   "execution_count": 8,
   "metadata": {},
   "outputs": [
    {
     "data": {
      "text/plain": [
       "true"
      ]
     },
     "execution_count": 8,
     "metadata": {},
     "output_type": "execute_result"
    }
   ],
   "source": [
    "PokerCard(\"5H\") == PokerCard(\"5D\")"
   ]
  },
  {
   "cell_type": "code",
   "execution_count": 9,
   "metadata": {},
   "outputs": [
    {
     "data": {
      "text/plain": [
       "false"
      ]
     },
     "execution_count": 9,
     "metadata": {},
     "output_type": "execute_result"
    }
   ],
   "source": [
    "PokerCard(\"5H\") < PokerCard(\"5D\")"
   ]
  },
  {
   "cell_type": "code",
   "execution_count": 10,
   "metadata": {},
   "outputs": [
    {
     "data": {
      "text/plain": [
       "false"
      ]
     },
     "execution_count": 10,
     "metadata": {},
     "output_type": "execute_result"
    }
   ],
   "source": [
    "PokerCard(\"5H\") == PokerCard(\"AD\")"
   ]
  },
  {
   "cell_type": "code",
   "execution_count": 11,
   "metadata": {},
   "outputs": [
    {
     "data": {
      "text/plain": [
       "true"
      ]
     },
     "execution_count": 11,
     "metadata": {},
     "output_type": "execute_result"
    }
   ],
   "source": [
    "PokerCard(\"5H\") < PokerCard(\"AD\")"
   ]
  },
  {
   "cell_type": "code",
   "execution_count": 12,
   "metadata": {},
   "outputs": [
    {
     "data": {
      "text/plain": [
       "false"
      ]
     },
     "execution_count": 12,
     "metadata": {},
     "output_type": "execute_result"
    }
   ],
   "source": [
    "PokerCard(\"5H\") === PokerCard(\"5D\")"
   ]
  },
  {
   "cell_type": "code",
   "execution_count": 13,
   "metadata": {},
   "outputs": [
    {
     "data": {
      "text/plain": [
       "5-element Array{PokerCard,1}:\n",
       " 3S\n",
       " 4D\n",
       " 5H\n",
       " 5C\n",
       " QH"
      ]
     },
     "execution_count": 13,
     "metadata": {},
     "output_type": "execute_result"
    }
   ],
   "source": [
    "sort([PokerCard(\"5H\"), PokerCard(\"5C\"), PokerCard(\"4D\"), PokerCard(\"QH\"), PokerCard(\"3S\")])"
   ]
  },
  {
   "cell_type": "markdown",
   "metadata": {},
   "source": [
    "A poker hand is a *set* of five cards. I don’t think I want to enforce that length, though, to allow the notions of empty hands, partial hands, drawing and discarding, etc."
   ]
  },
  {
   "cell_type": "code",
   "execution_count": 14,
   "metadata": {},
   "outputs": [],
   "source": [
    "struct PokerHand\n",
    "    cards::Set{PokerCard}\n",
    "end"
   ]
  },
  {
   "cell_type": "code",
   "execution_count": 15,
   "metadata": {},
   "outputs": [
    {
     "data": {
      "text/plain": [
       "5-element Array{PokerCard,1}:\n",
       " 3S\n",
       " 4D\n",
       " 5C\n",
       " 5H\n",
       " QH"
      ]
     },
     "execution_count": 15,
     "metadata": {},
     "output_type": "execute_result"
    }
   ],
   "source": [
    "collect(PokerHand(Set([PokerCard(\"5H\"), PokerCard(\"5C\"), PokerCard(\"4D\"), PokerCard(\"QH\"), PokerCard(\"3S\")])).cards) |> sort"
   ]
  },
  {
   "cell_type": "code",
   "execution_count": 16,
   "metadata": {},
   "outputs": [
    {
     "data": {
      "text/plain": [
       "PokerHand"
      ]
     },
     "execution_count": 16,
     "metadata": {},
     "output_type": "execute_result"
    }
   ],
   "source": [
    "PokerHand(a::Array{PokerCard}) = PokerHand(Set(collect(a)))"
   ]
  },
  {
   "cell_type": "code",
   "execution_count": 17,
   "metadata": {},
   "outputs": [
    {
     "data": {
      "text/plain": [
       "PokerHand(Set(PokerCard[JD, JS, TH, AH, JH]))"
      ]
     },
     "execution_count": 17,
     "metadata": {},
     "output_type": "execute_result"
    }
   ],
   "source": [
    "H = PokerHand([PokerCard(\"JH\"), PokerCard(\"JD\"), PokerCard(\"JS\"), PokerCard(\"TH\"), PokerCard(\"AH\")])"
   ]
  },
  {
   "cell_type": "code",
   "execution_count": 18,
   "metadata": {},
   "outputs": [
    {
     "data": {
      "text/plain": [
       "false"
      ]
     },
     "execution_count": 18,
     "metadata": {},
     "output_type": "execute_result"
    }
   ],
   "source": [
    "isflush(h::PokerHand) = isequal(length(unique(map(c -> c.suit, collect(h.cards)))), 1)\n",
    "isflush(H)    "
   ]
  },
  {
   "cell_type": "code",
   "execution_count": 19,
   "metadata": {},
   "outputs": [
    {
     "data": {
      "text/plain": [
       "false"
      ]
     },
     "execution_count": 19,
     "metadata": {},
     "output_type": "execute_result"
    }
   ],
   "source": [
    "function isstraight(h::PokerHand)\n",
    "    cards = sort(map(c -> c.rank, collect(h.cards)))\n",
    "    a = popfirst!(cards)\n",
    "    while !isempty(cards)\n",
    "        cards[1] - a == 1 || return false\n",
    "        a = popfirst!(cards)\n",
    "    end\n",
    "    true\n",
    "end\n",
    "isstraight(H)"
   ]
  },
  {
   "cell_type": "code",
   "execution_count": 20,
   "metadata": {},
   "outputs": [
    {
     "data": {
      "text/plain": [
       "false"
      ]
     },
     "execution_count": 20,
     "metadata": {},
     "output_type": "execute_result"
    }
   ],
   "source": [
    "isstraightslush(h::PokerHand) = isflush(h) && isstraight(h)\n",
    "isstraightslush(H)"
   ]
  },
  {
   "cell_type": "code",
   "execution_count": 21,
   "metadata": {},
   "outputs": [
    {
     "data": {
      "text/plain": [
       "false"
      ]
     },
     "execution_count": 21,
     "metadata": {},
     "output_type": "execute_result"
    }
   ],
   "source": [
    "isroyalflush(h::PokerHand) = isstraightslush(h) && isequal(sort(map(c -> c.rank, collect(h.cards)))[1], 0x08)\n",
    "isroyalflush(H)"
   ]
  },
  {
   "cell_type": "code",
   "execution_count": 22,
   "metadata": {},
   "outputs": [
    {
     "data": {
      "text/plain": [
       "false"
      ]
     },
     "execution_count": 22,
     "metadata": {},
     "output_type": "execute_result"
    }
   ],
   "source": [
    "function isnkind(h::PokerHand, n)\n",
    "    cards = map(c -> c.rank, collect(h.cards))\n",
    "    sets = Dict([r => 0 for r ∈ cards])\n",
    "    for c in cards, r in c\n",
    "        sets[r] += 1\n",
    "    end\n",
    "    any(p -> p.second >= n, pairs(sets))\n",
    "end\n",
    "isnkind(H, 4)"
   ]
  },
  {
   "cell_type": "code",
   "execution_count": null,
   "metadata": {},
   "outputs": [],
   "source": []
  }
 ],
 "metadata": {
  "kernelspec": {
   "display_name": "Julia 1.4.1",
   "language": "julia",
   "name": "julia-1.4"
  },
  "language_info": {
   "file_extension": ".jl",
   "mimetype": "application/julia",
   "name": "julia",
   "version": "1.4.1"
  }
 },
 "nbformat": 4,
 "nbformat_minor": 4
}
