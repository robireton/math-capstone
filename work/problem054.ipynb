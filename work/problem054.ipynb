{
 "cells": [
  {
   "cell_type": "markdown",
   "metadata": {},
   "source": [
    "# Poker hands\n",
    "\n",
    "<blockquote>\n",
    "<p>In the card game poker, a hand consists of five cards and are ranked, from lowest to highest, in the following way:</p>\n",
    "<ul><li><b>High Card</b>: Highest value card.</li>\n",
    "<li><b>One Pair</b>: Two cards of the same value.</li>\n",
    "<li><b>Two Pairs</b>: Two different pairs.</li>\n",
    "<li><b>Three of a Kind</b>: Three cards of the same value.</li>\n",
    "<li><b>Straight</b>: All cards are consecutive values.</li>\n",
    "<li><b>Flush</b>: All cards of the same suit.</li>\n",
    "<li><b>Full House</b>: Three of a kind and a pair.</li>\n",
    "<li><b>Four of a Kind</b>: Four cards of the same value.</li>\n",
    "<li><b>Straight Flush</b>: All cards are consecutive values of same suit.</li>\n",
    "<li><b>Royal Flush</b>: Ten, Jack, Queen, King, Ace, in same suit.</li>\n",
    "</ul><p>The cards are valued in the order:<br />2, 3, 4, 5, 6, 7, 8, 9, 10, Jack, Queen, King, Ace.</p>\n",
    "<p>If two players have the same ranked hands then the rank made up of the highest value wins; for example, a pair of eights beats a pair of fives (see example 1 below). But if two ranks tie, for example, both players have a pair of queens, then highest cards in each hand are compared (see example 4 below); if the highest cards tie then the next highest cards are compared, and so on.</p>\n",
    "<p>Consider the following five hands dealt to two players:</p>\n",
    "<div style=\"text-align:center;\">\n",
    "<table><tr><td><b>Hand</b></td><td> </td><td><b>Player 1</b></td><td> </td><td><b>Player 2</b></td><td> </td><td><b>Winner</b></td>\n",
    "</tr><tr><td style=\"vertical-align:top;\"><b>1</b></td><td> </td><td>5H 5C 6S 7S KD<br /><div class=\"note\">Pair of Fives</div></td><td> </td><td>2C 3S 8S 8D TD<br /><div class=\"note\">Pair of Eights</div></td><td> </td><td style=\"vertical-align:top;\">Player 2</td>\n",
    "</tr><tr><td style=\"vertical-align:top;\"><b>2</b></td><td> </td><td>5D 8C 9S JS AC<br /><div class=\"note\">Highest card Ace</div></td><td> </td><td>2C 5C 7D 8S QH<br /><div class=\"note\">Highest card Queen</div></td><td> </td><td style=\"vertical-align:top;\">Player 1</td>\n",
    "</tr><tr><td style=\"vertical-align:top;\"><b>3</b></td><td> </td><td>2D 9C AS AH AC<br /><div class=\"note\">Three Aces</div></td><td> </td><td>3D 6D 7D TD QD<br /><div class=\"note\">Flush  with Diamonds</div></td><td> </td><td style=\"vertical-align:top;\">Player 2</td>\n",
    "</tr><tr><td style=\"vertical-align:top;\"><b>4</b></td><td> </td><td>4D 6S 9H QH QC<br /><div class=\"note\">Pair of Queens<br />Highest card Nine</div></td><td> </td><td>3D 6D 7H QD QS<br /><div class=\"note\">Pair of Queens<br />Highest card Seven</div></td><td> </td><td style=\"vertical-align:top;\">Player 1</td>\n",
    "</tr><tr><td style=\"vertical-align:top;\"><b>5</b></td><td> </td><td>2H 2D 4C 4D 4S<br /><div class=\"note\">Full House<br />With Three Fours</div></td><td> </td><td>3C 3D 3S 9S 9D<br /><div class=\"note\">Full House<br />with Three Threes</div></td><td> </td><td style=\"vertical-align:top;\">Player 1</td>\n",
    "</tr></table></div>\n",
    "<p>The file, <a href=\"p054_poker.txt\">poker.txt</a>, contains one-thousand random hands dealt to two players. Each line of the file contains ten cards (separated by a single space): the first five are Player 1's cards and the last five are Player 2's cards. You can assume that all hands are valid (no invalid characters or repeated cards), each player's hand is in no specific order, and in each hand there is a clear winner.</p>\n",
    "<p>How many hands does Player 1 win?</p>\n",
    "</blockquote>"
   ]
  },
  {
   "cell_type": "markdown",
   "metadata": {},
   "source": [
    "Let’s define some types!\n",
    "\n",
    "While there are Unicode code points for individual playing cards, they are not arranged in a way that is convenient for this task. (Ace is low, all spades less than all hearts, all hearts less than all diamonds, etc.) For this task, keeping track of suits and ranks separately will be more felicitous. Maybe we can use the individual card characters for display purposes."
   ]
  },
  {
   "cell_type": "code",
   "execution_count": 1,
   "metadata": {},
   "outputs": [],
   "source": [
    "struct PokerCard\n",
    "    rank::UInt8\n",
    "    suit::Char\n",
    "    function PokerCard(s::AbstractString)\n",
    "        length(s) == 2 || DomainError(s)\n",
    "        rank, suit = uppercase.([s[1], s[2]])\n",
    "        ranks = Dict('2' => 0x00, '3' => 0x01, '4' => 0x02, '5' => 0x03, '6' => 0x04, '7' => 0x05, '8' => 0x06, '9' => 0x07, 'T' => 0x08, 'J' => 0x09, 'Q' => 0x0A, 'K' => 0x0B, 'A' => 0x0C)\n",
    "        haskey(ranks, rank) || DomainError(s[1])\n",
    "        suits = Dict('S' => '♠', 'H' => '♥', 'D' => '♦', 'C' => '♣')\n",
    "        haskey(suits, suit) || DomainError(s[2])\n",
    "\n",
    "        new(ranks[rank], suits[suit])\n",
    "    end\n",
    "end\n",
    "\n",
    "Base.convert(::Type{PokerCard}, s::AbstractString) = PokerCard(s)"
   ]
  },
  {
   "cell_type": "code",
   "execution_count": 2,
   "metadata": {},
   "outputs": [
    {
     "data": {
      "text/plain": [
       "PokerCard(0x0c, '♠')"
      ]
     },
     "execution_count": 2,
     "metadata": {},
     "output_type": "execute_result"
    }
   ],
   "source": [
    "PokerCard(\"AS\")"
   ]
  },
  {
   "cell_type": "markdown",
   "metadata": {},
   "source": [
    "That could use better display. We’ll define `show` methods. The documentation says, “As a rule of thumb, the single-line `show` method should print a valid Julia expression for creating the shown object.”"
   ]
  },
  {
   "cell_type": "code",
   "execution_count": 3,
   "metadata": {},
   "outputs": [],
   "source": [
    "function Base.show(io::IO, z::PokerCard)\n",
    "    ranks = Dict(0x00 => '2', 0x01 => '3', 0x02 => '4', 0x03 => '5', 0x04 => '6', 0x05 => '7', 0x06 => '8', 0x07 => '9', 0x08 => 'T', 0x09 => 'J', 0x0A => 'Q', 0x0B => 'K', 0x0C => 'A')\n",
    "    suits = Dict('♠' => 'S', '♥' => 'H', '♦' => 'D', '♣' => 'C')\n",
    "    print(io, string(ranks[z.rank], suits[z.suit]))\n",
    "end"
   ]
  },
  {
   "cell_type": "code",
   "execution_count": 4,
   "metadata": {},
   "outputs": [
    {
     "data": {
      "text/plain": [
       "AS"
      ]
     },
     "execution_count": 4,
     "metadata": {},
     "output_type": "execute_result"
    }
   ],
   "source": [
    "PokerCard(\"AS\")"
   ]
  },
  {
   "cell_type": "code",
   "execution_count": 5,
   "metadata": {},
   "outputs": [],
   "source": [
    "function html(z::PokerCard)\n",
    "    ranks = Dict(0x00 => '2', 0x01 => '3', 0x02 => '4', 0x03 => '5', 0x04 => '6', 0x05 => '7', 0x06 => '8', 0x07 => '9', 0x08 => 'T', 0x09 => 'J', 0x0A => 'Q', 0x0B => 'K', 0x0C => 'A')\n",
    "    ranknames = Dict(0x00 => \"Two\", 0x01 => \"Three\", 0x02 => \"Four\", 0x03 => \"Five\", 0x04 => \"Six\", 0x05 => \"Seven\", 0x06 => \"Eight\", 0x07 => \"Nine\", 0x08 => \"Ten\", 0x09 => \"Jack\", 0x0A => \"Queen\", 0x0B => \"King\", 0x0C => \"Ace\")\n",
    "    suits = Dict('♠' => \"Spades\", '♥' => \"Hearts\", '♦' => \"Diamonds\", '♣' => \"Clubs\")\n",
    "    colors = Dict('♠' => \"black\", '♥' => \"red\", '♦' => \"red\", '♣' => \"black\")\n",
    "    \"\"\"<span class=\"card $(colors[z.suit])\" title=\"$(ranknames[z.rank]) of $(suits[z.suit])\" style=\"border: 0.5px solid black;\"><span class=\"rank\">$(ranks[z.rank])</span><span class=\"suit\" style=\"color: $(colors[z.suit]);\">$(z.suit)</span></span>\"\"\"\n",
    "\n",
    "end\n",
    "\n",
    "Base.show(io::IO, ::MIME\"text/html\", z::PokerCard) = print(io, html(z))"
   ]
  },
  {
   "cell_type": "code",
   "execution_count": 6,
   "metadata": {},
   "outputs": [
    {
     "data": {
      "text/html": [
       "<span class=\"card red\" title=\"Ace of Hearts\" style=\"border: 0.5px solid black;\"><span class=\"rank\">A</span><span class=\"suit\" style=\"color: red;\">♥</span></span>"
      ]
     },
     "metadata": {},
     "output_type": "display_data"
    }
   ],
   "source": [
    "display(\"text/html\", PokerCard(\"AH\"))"
   ]
  },
  {
   "cell_type": "markdown",
   "metadata": {},
   "source": [
    "OK, let’s define some comparison and assertion methods."
   ]
  },
  {
   "cell_type": "code",
   "execution_count": 7,
   "metadata": {},
   "outputs": [
    {
     "data": {
      "text/plain": [
       "isace (generic function with 1 method)"
      ]
     },
     "execution_count": 7,
     "metadata": {},
     "output_type": "execute_result"
    }
   ],
   "source": [
    "import Base: ==\n",
    "==(a::PokerCard, b::PokerCard) = a.rank == b.rank\n",
    "Base.isequal(a::PokerCard, b::PokerCard) = isequal(a.rank, b.rank) && isequal(a.suit, b.suit)\n",
    "Base.isless(a::PokerCard, b::PokerCard) = isless(a.rank, b.rank)\n",
    "istwo(z::PokerCard) = z.rank == 0x00\n",
    "isduce(z::PokerCard) = istwo(z)\n",
    "isthree(z::PokerCard) = z.rank == 0x01\n",
    "istre(z::PokerCard) = isthree(z)\n",
    "isfour(z::PokerCard) = z.rank == 0x02\n",
    "isfive(z::PokerCard) = z.rank == 0x03\n",
    "issix(z::PokerCard) = z.rank == 0x04\n",
    "isseven(z::PokerCard) = z.rank == 0x05\n",
    "iseight(z::PokerCard) = z.rank == 0x06\n",
    "isnine(z::PokerCard) = z.rank == 0x07\n",
    "isten(z::PokerCard) = z.rank == 0x08\n",
    "isjack(z::PokerCard) = z.rank == 0x09\n",
    "isqueen(z::PokerCard) = z.rank == 0x0A\n",
    "isking(z::PokerCard) = z.rank == 0x0B\n",
    "isace(z::PokerCard) = z.rank == 0x0C"
   ]
  },
  {
   "cell_type": "code",
   "execution_count": 8,
   "metadata": {},
   "outputs": [
    {
     "data": {
      "text/plain": [
       "true"
      ]
     },
     "execution_count": 8,
     "metadata": {},
     "output_type": "execute_result"
    }
   ],
   "source": [
    "PokerCard(\"5H\") == PokerCard(\"5D\")"
   ]
  },
  {
   "cell_type": "code",
   "execution_count": 9,
   "metadata": {},
   "outputs": [
    {
     "data": {
      "text/plain": [
       "false"
      ]
     },
     "execution_count": 9,
     "metadata": {},
     "output_type": "execute_result"
    }
   ],
   "source": [
    "PokerCard(\"5H\") < PokerCard(\"5D\")"
   ]
  },
  {
   "cell_type": "code",
   "execution_count": 10,
   "metadata": {},
   "outputs": [
    {
     "data": {
      "text/plain": [
       "false"
      ]
     },
     "execution_count": 10,
     "metadata": {},
     "output_type": "execute_result"
    }
   ],
   "source": [
    "PokerCard(\"5H\") == PokerCard(\"AD\")"
   ]
  },
  {
   "cell_type": "code",
   "execution_count": 11,
   "metadata": {},
   "outputs": [
    {
     "data": {
      "text/plain": [
       "true"
      ]
     },
     "execution_count": 11,
     "metadata": {},
     "output_type": "execute_result"
    }
   ],
   "source": [
    "PokerCard(\"5H\") < PokerCard(\"AD\")"
   ]
  },
  {
   "cell_type": "code",
   "execution_count": 12,
   "metadata": {},
   "outputs": [
    {
     "data": {
      "text/plain": [
       "false"
      ]
     },
     "execution_count": 12,
     "metadata": {},
     "output_type": "execute_result"
    }
   ],
   "source": [
    "PokerCard(\"5H\") === PokerCard(\"5D\")"
   ]
  },
  {
   "cell_type": "code",
   "execution_count": 13,
   "metadata": {},
   "outputs": [
    {
     "data": {
      "text/plain": [
       "false"
      ]
     },
     "execution_count": 13,
     "metadata": {},
     "output_type": "execute_result"
    }
   ],
   "source": [
    "isjack(PokerCard(\"QS\"))"
   ]
  },
  {
   "cell_type": "code",
   "execution_count": 14,
   "metadata": {},
   "outputs": [
    {
     "data": {
      "text/plain": [
       "5-element Array{PokerCard,1}:\n",
       " 3S\n",
       " 4D\n",
       " 5H\n",
       " 5C\n",
       " QH"
      ]
     },
     "execution_count": 14,
     "metadata": {},
     "output_type": "execute_result"
    }
   ],
   "source": [
    "sort([PokerCard(\"5H\"), PokerCard(\"5C\"), PokerCard(\"4D\"), PokerCard(\"QH\"), PokerCard(\"3S\")])"
   ]
  },
  {
   "cell_type": "markdown",
   "metadata": {},
   "source": [
    "A poker hand is a *set* of five cards. I don’t think I want to enforce that length, though, to allow the notions of empty hands, partial hands, drawing and discarding, etc. Just define a type alias."
   ]
  },
  {
   "cell_type": "code",
   "execution_count": 15,
   "metadata": {},
   "outputs": [
    {
     "data": {
      "text/plain": [
       "arrange (generic function with 1 method)"
      ]
     },
     "execution_count": 15,
     "metadata": {},
     "output_type": "execute_result"
    }
   ],
   "source": [
    "const PokerHand = Set{PokerCard}\n",
    "\n",
    "Base.sort(z::PokerHand) = sort(collect(z))\n",
    "\n",
    "function rankcounts(h::PokerHand)\n",
    "    cards = map(c -> c.rank, collect(h))\n",
    "    sets = Dict([r => 0 for r ∈ cards])\n",
    "    for c in cards, r in c\n",
    "        sets[r] += 1\n",
    "    end\n",
    "    sets\n",
    "end\n",
    "\n",
    "arrange(h::PokerHand) = sort(collect(rankcounts(h)), by=x->x.second*0x10+x.first, rev=true)"
   ]
  },
  {
   "cell_type": "code",
   "execution_count": 16,
   "metadata": {},
   "outputs": [
    {
     "data": {
      "text/html": [
       "<ul style=\"display: inline-block; margin: 0; padding: 0 1em;\"><li style=\"display: inline-block; padding-left: 0.5em; padding-right: 0.5em;\"><span class=\"card red\" title=\"Jack of Diamonds\" style=\"border: 0.5px solid black;\"><span class=\"rank\">J</span><span class=\"suit\" style=\"color: red;\">♦</span></span></li><li style=\"display: inline-block; padding-left: 0.5em; padding-right: 0.5em;\"><span class=\"card black\" title=\"Ten of Spades\" style=\"border: 0.5px solid black;\"><span class=\"rank\">T</span><span class=\"suit\" style=\"color: black;\">♠</span></span></li><li style=\"display: inline-block; padding-left: 0.5em; padding-right: 0.5em;\"><span class=\"card black\" title=\"Jack of Spades\" style=\"border: 0.5px solid black;\"><span class=\"rank\">J</span><span class=\"suit\" style=\"color: black;\">♠</span></span></li><li style=\"display: inline-block; padding-left: 0.5em; padding-right: 0.5em;\"><span class=\"card red\" title=\"Ten of Hearts\" style=\"border: 0.5px solid black;\"><span class=\"rank\">T</span><span class=\"suit\" style=\"color: red;\">♥</span></span></li><li style=\"display: inline-block; padding-left: 0.5em; padding-right: 0.5em;\"><span class=\"card red\" title=\"Jack of Hearts\" style=\"border: 0.5px solid black;\"><span class=\"rank\">J</span><span class=\"suit\" style=\"color: red;\">♥</span></span></li></ul>"
      ],
      "text/plain": [
       "Set{PokerCard} with 5 elements:\n",
       "  JD\n",
       "  TS\n",
       "  JS\n",
       "  TH\n",
       "  JH"
      ]
     },
     "execution_count": 16,
     "metadata": {},
     "output_type": "execute_result"
    }
   ],
   "source": [
    "function Base.show(io::IO, z::PokerHand)\n",
    "    print(io, join(collect(z), ' '))\n",
    "end\n",
    "\n",
    "function html(z::PokerHand)\n",
    "    elements = [\"\"\"<ul style=\"display: inline-block; margin: 0; padding: 0 1em;\">\"\"\"]\n",
    "    for card in z\n",
    "        push!(elements, string(\"\"\"<li style=\"display: inline-block; padding-left: 0.5em; padding-right: 0.5em;\">\"\"\", html(card), \"</li>\"))\n",
    "    end\n",
    "    push!(elements, \"</ul>\")\n",
    "    join(elements)\n",
    "end\n",
    "    \n",
    "Base.show(io::IO, ::MIME\"text/html\", z::PokerHand) = print(io, html(z))\n",
    "\n",
    "Base.show(io::IO, ::MIME\"text/html\", X::Tuple{PokerHand,PokerHand}) = print(io, \"<div>\", html(X[1]), html(X[2]), \"</div>\")\n",
    "\n",
    "\n",
    "H = PokerHand([PokerCard(\"JH\"), PokerCard(\"JD\"), PokerCard(\"JS\"), PokerCard(\"TH\"), PokerCard(\"TS\")])"
   ]
  },
  {
   "cell_type": "markdown",
   "metadata": {},
   "source": [
    "Now for some methods to help with comparing hands."
   ]
  },
  {
   "cell_type": "code",
   "execution_count": 17,
   "metadata": {},
   "outputs": [
    {
     "data": {
      "text/plain": [
       "isflush (generic function with 1 method)"
      ]
     },
     "execution_count": 17,
     "metadata": {},
     "output_type": "execute_result"
    }
   ],
   "source": [
    "isflush(h::PokerHand) = isequal(length(unique(map(c -> c.suit, collect(h)))), 1)"
   ]
  },
  {
   "cell_type": "code",
   "execution_count": 18,
   "metadata": {},
   "outputs": [
    {
     "data": {
      "text/plain": [
       "isstraight (generic function with 1 method)"
      ]
     },
     "execution_count": 18,
     "metadata": {},
     "output_type": "execute_result"
    }
   ],
   "source": [
    "function isstraight(h::PokerHand)\n",
    "    cards = sort(h)\n",
    "    a = popfirst!(cards)\n",
    "    while !isempty(cards)\n",
    "        cards[1].rank - a.rank == 1 || return false\n",
    "        a = popfirst!(cards)\n",
    "    end\n",
    "    true\n",
    "end"
   ]
  },
  {
   "cell_type": "code",
   "execution_count": 19,
   "metadata": {},
   "outputs": [
    {
     "data": {
      "text/plain": [
       "isstraightflush (generic function with 1 method)"
      ]
     },
     "execution_count": 19,
     "metadata": {},
     "output_type": "execute_result"
    }
   ],
   "source": [
    "isstraightflush(h::PokerHand) = isflush(h) && isstraight(h)"
   ]
  },
  {
   "cell_type": "code",
   "execution_count": 20,
   "metadata": {},
   "outputs": [
    {
     "data": {
      "text/plain": [
       "isroyalflush (generic function with 1 method)"
      ]
     },
     "execution_count": 20,
     "metadata": {},
     "output_type": "execute_result"
    }
   ],
   "source": [
    "isroyalflush(h::PokerHand) = isstraightflush(h) && isace(maximum(h))"
   ]
  },
  {
   "cell_type": "code",
   "execution_count": 21,
   "metadata": {},
   "outputs": [
    {
     "data": {
      "text/plain": [
       "isnkind (generic function with 1 method)"
      ]
     },
     "execution_count": 21,
     "metadata": {},
     "output_type": "execute_result"
    }
   ],
   "source": [
    "# for pairs, three- and four of a kind\n",
    "isnkind(h::PokerHand, n) = any(>=(n), values(rankcounts(h)))"
   ]
  },
  {
   "cell_type": "code",
   "execution_count": 22,
   "metadata": {},
   "outputs": [
    {
     "data": {
      "text/plain": [
       "isnmkind (generic function with 1 method)"
      ]
     },
     "execution_count": 22,
     "metadata": {},
     "output_type": "execute_result"
    }
   ],
   "source": [
    "#for two pair and full house\n",
    "function isnmkind(h::PokerHand, n, m)\n",
    "    b, a = sort([n, m])\n",
    "    c = rankcounts(h)\n",
    "    A = collect(filter(x -> x.second >= a, pairs(c)))\n",
    "    isempty(A) && return false\n",
    "    delete!(c, A[1].first)\n",
    "    !isempty(filter(x -> x.second >= b, pairs(c)))\n",
    "end"
   ]
  },
  {
   "cell_type": "code",
   "execution_count": 23,
   "metadata": {},
   "outputs": [],
   "source": [
    "function score(h::PokerHand)\n",
    "    isroyalflush(h)    && return 0x90 # Royal Flush: Ten, Jack, Queen, King, Ace, in same suit.\n",
    "    isstraightflush(h) && return 0x80 # Straight Flush: All cards are consecutive values of same suit.\n",
    "    isnkind(h, 4)      && return 0x70 # Four of a Kind: Four cards of the same value.\n",
    "    isnmkind(h, 2, 3)  && return 0x60 # Full House: Three of a kind and a pair.\n",
    "    isflush(h)         && return 0x50 # Flush: All cards of the same suit.\n",
    "    isstraight(h)      && return 0x40 # Straight: All cards are consecutive values.\n",
    "    isnkind(h, 3)      && return 0x30 # Three of a Kind: Three cards of the same value.\n",
    "    isnmkind(h, 2, 2)  && return 0x20 # Two Pairs: Two different pairs.\n",
    "    isnkind(h, 2)      && return 0x10 # One Pair: Two cards of the same value.\n",
    "    0x00                              # High Card: Highest value card.    \n",
    "end\n",
    "\n",
    "function breaktie(h1::PokerHand, h2::PokerHand)\n",
    "    # same semantics as isless but assumes h1 and h2 same ‘class’\n",
    "    A, B = arrange(h1), arrange(h2)\n",
    "    while !isempty(A)\n",
    "        a, b = popfirst!(A), popfirst!(B)\n",
    "        if a.second == b.second\n",
    "            a.first == b.first || return a.first < b.first\n",
    "        else\n",
    "            return a.second < b.second\n",
    "        end\n",
    "    end\n",
    "    false\n",
    "end\n",
    "\n",
    "function Base.isless(h1::PokerHand, h2::PokerHand)\n",
    "    a, b = score(h1), score(h2)\n",
    "    a == b ? breaktie(h1, h2) : a < b\n",
    "end\n",
    "import Base: <\n",
    "<(h1::PokerHand, h2::PokerHand) = isless(h1, h2)\n",
    "\n",
    "Base.parse(::Type{PokerHand}, s::AbstractString) = PokerHand(PokerCard(c) for c in split(s))\n",
    "Base.parse(::Type{Tuple{PokerHand,PokerHand}}, s::AbstractString) = (parse(PokerHand, s[1:14]), parse(PokerHand, s[16:29]))"
   ]
  },
  {
   "cell_type": "code",
   "execution_count": 25,
   "metadata": {},
   "outputs": [
    {
     "data": {
      "text/plain": [
       "376"
      ]
     },
     "execution_count": 25,
     "metadata": {},
     "output_type": "execute_result"
    }
   ],
   "source": [
    "wins = 0\n",
    "for line in eachline(\"p054_poker.txt\")\n",
    "    p1, p2 = parse(Tuple{PokerHand,PokerHand}, line)\n",
    "    p2 < p1 && (wins += 1)\n",
    "end\n",
    "@assert wins == 376 \"something went wrong\"\n",
    "wins\n"
   ]
  },
  {
   "cell_type": "code",
   "execution_count": 29,
   "metadata": {},
   "outputs": [
    {
     "data": {
      "text/plain": [
       "376"
      ]
     },
     "execution_count": 29,
     "metadata": {},
     "output_type": "execute_result"
    }
   ],
   "source": [
    "count(h -> h[1] > h[2], [parse(Tuple{PokerHand,PokerHand}, line) for line in eachline(\"p054_poker.txt\")])"
   ]
  },
  {
   "cell_type": "code",
   "execution_count": null,
   "metadata": {},
   "outputs": [],
   "source": []
  }
 ],
 "metadata": {
  "kernelspec": {
   "display_name": "Julia 1.4.1",
   "language": "julia",
   "name": "julia-1.4"
  },
  "language_info": {
   "file_extension": ".jl",
   "mimetype": "application/julia",
   "name": "julia",
   "version": "1.4.1"
  }
 },
 "nbformat": 4,
 "nbformat_minor": 4
}
