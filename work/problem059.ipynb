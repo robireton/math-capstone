{
 "cells": [
  {
   "cell_type": "markdown",
   "metadata": {},
   "source": [
    "# [XOR decryption](https://projecteuler.net/problem=59)\n",
    "\n",
    "> Each character on a computer is assigned a unique code and the preferred standard is ASCII (American Standard Code for Information Interchange). For example, uppercase A = 65, asterisk (*) = 42, and lowercase k = 107.\n",
    ">\n",
    "> A modern encryption method is to take a text file, convert the bytes to ASCII, then XOR each byte with a given value, taken from a secret key. The advantage with the XOR function is that using the same encryption key on the cipher text, restores the plain text; for example, 65 XOR 42 = 107, then 107 XOR 42 = 65.\n",
    ">\n",
    "> For unbreakable encryption, the key is the same length as the plain text message, and the key is made up of random bytes. The user would keep the encrypted message and the encryption key in different locations, and without both \"halves\", it is impossible to decrypt the message.\n",
    ">\n",
    "> Unfortunately, this method is impractical for most users, so the modified method is to use a password as a key. If the password is shorter than the message, which is likely, the key is repeated cyclically throughout the message. The balance for this method is using a sufficiently long password key for security, but short enough to be memorable.\n",
    ">\n",
    "> Your task has been made easy, as the encryption key consists of three lower case characters. Using p059_cipher.txt (right click and 'Save Link/Target As...'), a file containing the encrypted ASCII codes, and the knowledge that the plain text must contain common English words, decrypt the message and find the sum of the ASCII values in the original text.\n"
   ]
  },
  {
   "cell_type": "markdown",
   "metadata": {},
   "source": [
    "ASCII has been supplanted by UTF-8 as “the preferred standard” for character encoding and is what Julia uses, but UTF-8 was designed for backward compatibility with ASCII. As long as we are using characters with code points less than 128 (0x80), we don’t have to differentiate between the two standards."
   ]
  },
  {
   "cell_type": "code",
   "execution_count": 1,
   "metadata": {},
   "outputs": [
    {
     "data": {
      "text/plain": [
       "(0x00, 0x5f)"
      ]
     },
     "execution_count": 1,
     "metadata": {},
     "output_type": "execute_result"
    }
   ],
   "source": [
    "using DelimitedFiles\n",
    "C = readdlm(\"p059_cipher.txt\", ',', UInt8) # vector of bytes\n",
    "extrema(C)"
   ]
  },
  {
   "cell_type": "markdown",
   "metadata": {},
   "source": [
    "We’re told that the encryption key is three characters long. We’ll reshape the cipher text so we can do frequency analysis on each row—data that was all encrypted with the same character."
   ]
  },
  {
   "cell_type": "code",
   "execution_count": 2,
   "metadata": {},
   "outputs": [
    {
     "data": {
      "text/plain": [
       "3×485 Array{UInt8,2}:\n",
       " 0x24  0x00  0x17  0x11  0x04  0x0b  …  0x45  0x00  0x13  0x45  0x08  0x17\n",
       " 0x16  0x00  0x19  0x58  0x13  0x58     0x19  0x58  0x1d  0x16  0x1a  0x0b\n",
       " 0x50  0x04  0x13  0x04  0x15  0x16     0x02  0x15  0x1e  0x05  0x15  0x5e"
      ]
     },
     "execution_count": 2,
     "metadata": {},
     "output_type": "execute_result"
    }
   ],
   "source": [
    "keysize = 3\n",
    "C′ = reshape(C, (keysize, cld(length(C), keysize)))"
   ]
  },
  {
   "cell_type": "markdown",
   "metadata": {},
   "source": [
    "Now, for each row, we’ll find the most frequent entry. We know the plain text is made up of common English words. Those will be separated by space characters (0x20), so this will be the most frequently occuring character in any reasonably long span of text. XORing the character code we identify in the cipher with 0x20 should recover the key character."
   ]
  },
  {
   "cell_type": "code",
   "execution_count": 3,
   "metadata": {},
   "outputs": [
    {
     "name": "stdout",
     "output_type": "stream",
     "text": [
      "0x45 => 'e'\n",
      "0x58 => 'x'\n",
      "0x50 => 'p'\n"
     ]
    },
    {
     "data": {
      "text/plain": [
       "3-element Array{Any,1}:\n",
       " 0x65\n",
       " 0x78\n",
       " 0x70"
      ]
     },
     "execution_count": 3,
     "metadata": {},
     "output_type": "execute_result"
    }
   ],
   "source": [
    "K = [] # key code points\n",
    "for R in eachrow(C′)\n",
    "    F = Dict(i => count(isequal(i), R) for i in unique(R)) # code point => occurences\n",
    "    m = argmax(F) # most frequent code point in cipher\n",
    "    k = m ⊻ 0x20 # the key for this row\n",
    "    println(m => Char(k))\n",
    "    push!(K, k)\n",
    "end\n",
    "K"
   ]
  },
  {
   "cell_type": "markdown",
   "metadata": {},
   "source": [
    "It’s a good sign that all three results are lower-case letters, as hinted in the problem statement. Now that we have the letters of the key, ‘exp’, we can turn our attention to decrypting the cipher text. We’ll repeat the letters we found so that the key is the same length as the cipher text"
   ]
  },
  {
   "cell_type": "code",
   "execution_count": 4,
   "metadata": {},
   "outputs": [
    {
     "data": {
      "text/plain": [
       "1455-element Array{Any,1}:\n",
       " 0x65\n",
       " 0x78\n",
       " 0x70\n",
       " 0x65\n",
       " 0x78\n",
       " 0x70\n",
       " 0x65\n",
       " 0x78\n",
       " 0x70\n",
       " 0x65\n",
       " 0x78\n",
       " 0x70\n",
       " 0x65\n",
       "    ⋮\n",
       " 0x65\n",
       " 0x78\n",
       " 0x70\n",
       " 0x65\n",
       " 0x78\n",
       " 0x70\n",
       " 0x65\n",
       " 0x78\n",
       " 0x70\n",
       " 0x65\n",
       " 0x78\n",
       " 0x70"
      ]
     },
     "execution_count": 4,
     "metadata": {},
     "output_type": "execute_result"
    }
   ],
   "source": [
    "Kᵣ = repeat(K, cld(length(C), length(K)))"
   ]
  },
  {
   "cell_type": "markdown",
   "metadata": {},
   "source": [
    "Now we can compute the bitwise XOR (Julia’s `⊻` operator—`\\xor` or `\\veebar`) for each element of the cipher and the key. Converting those code points back into characters reveals the plaintext. Adding them up gives the number required by the problem."
   ]
  },
  {
   "cell_type": "code",
   "execution_count": 5,
   "metadata": {},
   "outputs": [
    {
     "name": "stdout",
     "output_type": "stream",
     "text": [
      "An extract taken from the introduction of one of Euler's most celebrated papers, \"De summis serierum reciprocarum\" [On the sums of series of reciprocals]: I have recently found, quite unexpectedly, an elegant expression for the entire sum of this series 1 + 1/4 + 1/9 + 1/16 + etc., which depends on the quadrature of the circle, so that if the true sum of this series is obtained, from it at once the quadrature of the circle follows. Namely, I have found that the sum of this series is a sixth part of the square of the perimeter of the circle whose diameter is 1; or by putting the sum of this series equal to s, it has the ratio sqrt(6) multiplied by s to 1 of the perimeter to the diameter. I will soon show that the sum of this series to be approximately 1.644934066842264364; and from multiplying this number by six, and then taking the square root, the number 3.141592653589793238 is indeed produced, which expresses the perimeter of a circle whose diameter is 1. Following again the same steps by which I had arrived at this sum, I have discovered that the sum of the series 1 + 1/16 + 1/81 + 1/256 + 1/625 + etc. also depends on the quadrature of the circle. Namely, the sum of this multiplied by 90 gives the biquadrate (fourth power) of the circumference of the perimeter of a circle whose diameter is 1. And by similar reasoning I have likewise been able to determine the sums of the subsequent series in which the exponents are even numbers."
     ]
    },
    {
     "data": {
      "text/plain": [
       "129448"
      ]
     },
     "execution_count": 5,
     "metadata": {},
     "output_type": "execute_result"
    }
   ],
   "source": [
    "P = map(⊻, C, Kᵣ)\n",
    "print(join(map(Char, P)))\n",
    "Int(sum(P))"
   ]
  }
 ],
 "metadata": {
  "kernelspec": {
   "display_name": "Julia 1.4.1",
   "language": "julia",
   "name": "julia-1.4"
  },
  "language_info": {
   "file_extension": ".jl",
   "mimetype": "application/julia",
   "name": "julia",
   "version": "1.4.1"
  }
 },
 "nbformat": 4,
 "nbformat_minor": 4
}
