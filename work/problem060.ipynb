{
 "cells": [
  {
   "cell_type": "markdown",
   "metadata": {},
   "source": [
    "# [Prime pair sets](https://projecteuler.net/problem=60)\n",
    "\n",
    "> The primes 3, 7, 109, and 673, are quite remarkable. By taking any two primes and concatenating them in any order the result will always be prime. For example, taking 7 and 109, both 7109 and 1097 are prime. The sum of these four primes, 792, represents the lowest sum for a set of four primes with this property.\n",
    ">\n",
    "> Find the lowest sum for a set of five primes for which any two primes concatenate to produce another prime.\n",
    "\n",
    "I’ll be relying on the [Primes.jl](https://juliamath.github.io/Primes.jl/stable/) package from [Julia Math](https://github.com/JuliaMath). It provides functions for generating and identifying prime numbers. Start by `using` it."
   ]
  },
  {
   "cell_type": "code",
   "execution_count": 1,
   "metadata": {},
   "outputs": [
    {
     "data": {
      "text/plain": [
       "4-element Array{Int64,1}:\n",
       "  3\n",
       "  5\n",
       "  7\n",
       " 11"
      ]
     },
     "execution_count": 1,
     "metadata": {},
     "output_type": "execute_result"
    }
   ],
   "source": [
    "using Primes\n",
    "\n",
    "primes(3, 11) # the primes from 3 to 11, inclusive"
   ]
  },
  {
   "cell_type": "markdown",
   "metadata": {},
   "source": [
    "I’ll consider a grid with the odd primes as the indices and their concatenations as the entries:\n",
    "\n",
    "|  ⋆ | 3   | 5   | 7   | 11   |\n",
    "|----|-----|-----|-----|------|\n",
    "| 3  | 33  | 35  | 37  | 311  |\n",
    "| 5  | 53  | 55  | 57  | 511  |\n",
    "| 7  | 73  | 75  | 77  | 711  |\n",
    "| 11 | 113 | 115 | 117 | 1111 |\n",
    "\n",
    "Odd primes because anything concatenated with ‘2’ on the right will be even, so not prime. I think anything on the diagonal ($n \\star n$) will be a multiple of $11$, but I should prove that… (doesn’t matter for this problem because we are only interested in the concatenation of two primes, not a prime with itself) A pair of indices $i$ and $j$ meet the criteria if both $\\mathbf{A}_{ij}$ and $\\mathbf{A}_{ji}$ are prime, where $\\mathbf{A}$ is that grid.\n",
    "\n",
    "I’m using `⋆` (`\\star`) as a concatenation operator. That will need to be defined:"
   ]
  },
  {
   "cell_type": "code",
   "execution_count": 2,
   "metadata": {},
   "outputs": [
    {
     "data": {
      "text/plain": [
       "37"
      ]
     },
     "execution_count": 2,
     "metadata": {},
     "output_type": "execute_result"
    }
   ],
   "source": [
    "# ⋆(a::Integer, b::Integer) = parse(Int, \"$a$b\") — too slow!\n",
    "⋆(a::Integer, b::Integer) = a * 10^ndigits(b) + b\n",
    "3⋆7"
   ]
  },
  {
   "cell_type": "markdown",
   "metadata": {},
   "source": [
    "## Implementation Discovery\n",
    "\n",
    "If we use the primes themselves as the indices, the array will be pretty sparse. (*comment about density of primes?*) We could perhaps use $i$ to refer to the $i$th prime, but maybe its better to start with a Dictionary with a tuple of primes as the key and their concatenation as the value. Entries where the elements of the tuple equal each other (*the diagonal*) should be excluded."
   ]
  },
  {
   "cell_type": "code",
   "execution_count": 3,
   "metadata": {},
   "outputs": [
    {
     "data": {
      "text/plain": [
       "Dict{Tuple{Int64,Int64},Int64} with 12 entries:\n",
       "  (11, 5) => 115\n",
       "  (11, 3) => 113\n",
       "  (7, 11) => 711\n",
       "  (3, 11) => 311\n",
       "  (7, 5)  => 75\n",
       "  (7, 3)  => 73\n",
       "  (5, 11) => 511\n",
       "  (11, 7) => 117\n",
       "  (3, 7)  => 37\n",
       "  (5, 3)  => 53\n",
       "  (3, 5)  => 35\n",
       "  (5, 7)  => 57"
      ]
     },
     "execution_count": 3,
     "metadata": {},
     "output_type": "execute_result"
    }
   ],
   "source": [
    "Dict((p, q) => p ⋆ q for p ∈ primes(3, 11), q ∈ primes(3, 11) if p ≠ q)"
   ]
  },
  {
   "cell_type": "markdown",
   "metadata": {},
   "source": [
    "We’re not really interested in the concatenation of the pairs, just whether it is prime or not:"
   ]
  },
  {
   "cell_type": "code",
   "execution_count": 4,
   "metadata": {},
   "outputs": [
    {
     "data": {
      "text/plain": [
       "Dict{Tuple{Int64,Int64},Bool} with 12 entries:\n",
       "  (11, 5) => false\n",
       "  (11, 3) => true\n",
       "  (7, 11) => false\n",
       "  (3, 11) => true\n",
       "  (7, 5)  => false\n",
       "  (7, 3)  => true\n",
       "  (5, 11) => false\n",
       "  (11, 7) => false\n",
       "  (3, 7)  => true\n",
       "  (5, 3)  => true\n",
       "  (3, 5)  => false\n",
       "  (5, 7)  => false"
      ]
     },
     "execution_count": 4,
     "metadata": {},
     "output_type": "execute_result"
    }
   ],
   "source": [
    "Dict((p, q) => isprime(p ⋆ q) for p ∈ primes(3, 11), q ∈ primes(3, 11) if p ≠ q)"
   ]
  },
  {
   "cell_type": "markdown",
   "metadata": {},
   "source": [
    "Actually, we’re not interested in the pairs whose concatenation isn’t prime:"
   ]
  },
  {
   "cell_type": "code",
   "execution_count": 5,
   "metadata": {},
   "outputs": [
    {
     "data": {
      "text/plain": [
       "Dict{Tuple{Int64,Int64},Int64} with 5 entries:\n",
       "  (11, 3) => 113\n",
       "  (3, 7)  => 37\n",
       "  (5, 3)  => 53\n",
       "  (7, 3)  => 73\n",
       "  (3, 11) => 311"
      ]
     },
     "execution_count": 5,
     "metadata": {},
     "output_type": "execute_result"
    }
   ],
   "source": [
    "Dict(filter(x -> isprime(x.second), [(p, q) => p ⋆ q for p ∈ primes(3, 11), q ∈ primes(3, 11) if p ≠ q]))"
   ]
  },
  {
   "cell_type": "markdown",
   "metadata": {},
   "source": [
    "Maybe we don’t need a Dictionary at all, just a Set of tuples:"
   ]
  },
  {
   "cell_type": "code",
   "execution_count": 6,
   "metadata": {},
   "outputs": [
    {
     "data": {
      "text/plain": [
       "Set{Tuple{Int64,Int64}} with 5 elements:\n",
       "  (11, 3)\n",
       "  (3, 7)\n",
       "  (5, 3)\n",
       "  (7, 3)\n",
       "  (3, 11)"
      ]
     },
     "execution_count": 6,
     "metadata": {},
     "output_type": "execute_result"
    }
   ],
   "source": [
    "Set((p, q) for p ∈ primes(3, 11), q ∈ primes(3, 11) if p ≠ q && isprime(p ⋆ q))"
   ]
  },
  {
   "cell_type": "markdown",
   "metadata": {},
   "source": [
    "Now we can identify tuples where both ($p$, $q$) and ($q$, $p$) are in the set. Let’s keep just pairs where $p < q$, since one now implies the other."
   ]
  },
  {
   "cell_type": "code",
   "execution_count": 7,
   "metadata": {},
   "outputs": [
    {
     "data": {
      "text/plain": [
       "(418, 121)"
      ]
     },
     "execution_count": 7,
     "metadata": {},
     "output_type": "execute_result"
    }
   ],
   "source": [
    "P = primes(3, 673) # no need to generate this every time 673\n",
    "A = Set((p, q) for p ∈ P, q ∈ P if p < q && isprime(p ⋆ q) && isprime(q ⋆ p))\n",
    "length(A), length(P)"
   ]
  },
  {
   "cell_type": "code",
   "execution_count": 8,
   "metadata": {},
   "outputs": [
    {
     "data": {
      "text/plain": [
       "find4s (generic function with 1 method)"
      ]
     },
     "execution_count": 8,
     "metadata": {},
     "output_type": "execute_result"
    }
   ],
   "source": [
    "function find4s(P, A)\n",
    "    C = Set()\n",
    "    l = 0\n",
    "    for p₁ ∈ P, p₂ ∈ P, p₃ ∈ P, p₄ ∈ P\n",
    "        if p₁ < p₂ < p₃ < p₄\n",
    "            l += 1\n",
    "            if (p₁, p₂) ∈ A && (p₁, p₃) ∈ A && (p₁, p₄) ∈ A && \n",
    "               (p₂, p₃) ∈ A && (p₂, p₄) ∈ A && (p₃, p₄) ∈ A\n",
    "                println(\"Found: $p₁, $p₂, $p₃, $p₄\")\n",
    "                push!(C, Set([p₁, p₂, p₃, p₄]))\n",
    "            end\n",
    "        end\n",
    "    end\n",
    "    print(\" did $l iterations \")\n",
    "    C\n",
    "end"
   ]
  },
  {
   "cell_type": "code",
   "execution_count": 9,
   "metadata": {},
   "outputs": [
    {
     "name": "stdout",
     "output_type": "stream",
     "text": [
      "Found: 3, 7, 109, 673\n",
      " did 8495410 iterations   0.447990 seconds (250.07 k allocations: 12.430 MiB, 1.45% gc time)\n"
     ]
    },
    {
     "data": {
      "text/plain": [
       "Set{Any} with 1 element:\n",
       "  Set([7, 673, 3, 109])"
      ]
     },
     "execution_count": 9,
     "metadata": {},
     "output_type": "execute_result"
    }
   ],
   "source": [
    "@time find4s(P, A)"
   ]
  },
  {
   "cell_type": "markdown",
   "metadata": {},
   "source": [
    "## Searching For More\n",
    "\n",
    "So far, we’ve been identifying things we already knew existed in a fixed search space. To answer the problem, we’ll need to search an increasing space until we find what we're looking for, trying to avoid doing expensive computations more than needed."
   ]
  },
  {
   "cell_type": "code",
   "execution_count": 10,
   "metadata": {},
   "outputs": [
    {
     "data": {
      "text/plain": [
       "problem60 (generic function with 1 method)"
      ]
     },
     "execution_count": 10,
     "metadata": {},
     "output_type": "execute_result"
    }
   ],
   "source": [
    "function pairs!(A::Set{Tuple{Int,Int}}, P::Set{Int64})\n",
    "  q = maximum(P)\n",
    "  union!(A, Set((p, q) for p ∈ P if p < q && isprime(p ⋆ q) && isprime(q ⋆ p)))\n",
    "end\n",
    "\n",
    "function threes!(B::Set{Tuple{Int,Int,Int}}, A::Set{Tuple{Int,Int}}, p₃::Int)\n",
    "  for (p₁, p₂) ∈ A\n",
    "    if p₁ < p₂ < p₃\n",
    "      (p₁, p₃) ∈ A && (p₂, p₃) ∈ A && push!(B, (p₁, p₂, p₃))\n",
    "    end\n",
    "  end\n",
    "end\n",
    "\n",
    "function fours!(C::Set{Tuple{Int,Int,Int,Int}}, B::Set{Tuple{Int,Int,Int}}, A::Set{Tuple{Int,Int}}, p₄::Int)\n",
    "  for (p₁, p₂, p₃) ∈ B\n",
    "    if p₁ < p₂ < p₃ < p₄\n",
    "      (p₁, p₄) ∈ A && (p₂, p₄) ∈ A && (p₃, p₄) ∈ A && push!(C, (p₁, p₂, p₃, p₄))\n",
    "    end\n",
    "  end\n",
    "end\n",
    "\n",
    "function fives!(D::Set{Tuple{Int,Int,Int,Int,Int}}, C::Set{Tuple{Int,Int,Int,Int}}, A::Set{Tuple{Int,Int}}, p₅::Int)\n",
    "  for (p₁, p₂, p₃, p₄) ∈ C\n",
    "    if p₁ < p₂ < p₃ < p₄ < p₅\n",
    "      (p₁, p₅) ∈ A && (p₂, p₅) ∈ A && (p₃, p₅) ∈ A && (p₄, p₅) ∈ A && push!(D, (p₁, p₂, p₃, p₄, p₅))\n",
    "    end\n",
    "  end\n",
    "end\n",
    "\n",
    "function problem60()\n",
    "  P = Set{Int64}([3])\n",
    "  A = Set{Tuple{Int,Int}}()\n",
    "  B = Set{Tuple{Int,Int,Int}}()\n",
    "  C = Set{Tuple{Int,Int,Int,Int}}()\n",
    "  D = Set{Tuple{Int,Int,Int,Int,Int}}()\n",
    "  while length(D) == 0\n",
    "    p = nextprime(maximum(P), 2)\n",
    "    push!(P, p)\n",
    "    pairs!(A, P)\n",
    "    threes!(B, A, p)\n",
    "    fours!(C, B, A, p)\n",
    "    fives!(D, C, A, p)\n",
    "    # println(p, \"\\t\", length(A), \"\\t\", length(B), \"\\t\", length(C), \"\\t\", length(D))\n",
    "  end\n",
    "  println(\"D: $D\")\n",
    "  println(\"min ΣDᵢ: \", minimum(sum, D))\n",
    "end"
   ]
  },
  {
   "cell_type": "markdown",
   "metadata": {},
   "source": [
    "I’m building up five sets: odd primes, pairs of primes whose concatenations are prime, and then sets of 3, 4, and 5 primes, any two of which’s concatenations are prime. Each set it built from the smaller ones as we add prime by prime. Once there is at least one entry in the five-set, we stop and find the element of that set with the smallest sum of entries. In this case there is just one when we stop. I’m confident that this is the one with the smallest sum because of the way I build up the sets. We always add the next prime, so set elements contain the smallest primes available. "
   ]
  },
  {
   "cell_type": "code",
   "execution_count": 12,
   "metadata": {},
   "outputs": [
    {
     "name": "stdout",
     "output_type": "stream",
     "text": [
      "D: Set([(13, 5197, 5701, 6733, 8389)])\n",
      "min ΣDᵢ: 26033\n",
      "  0.356895 seconds (208.02 k allocations: 6.572 MiB)\n"
     ]
    }
   ],
   "source": [
    "@time problem60()"
   ]
  },
  {
   "cell_type": "markdown",
   "metadata": {},
   "source": [
    "## Discussion\n",
    "\n",
    "Different implementation choices affected performance significantly in some cases. Concatenating primes by converting them to strings and then parsing the result was measurably slower than working with integers. The type annotations make a big difference. (For all of these, I used the `@time` macro and did a/b testing.) I tried only running `fives!` when set `C` changed, only running `fours!` when set `B` changed, etc., but it didn’t make enough difference to justify the added visual clutter. Of course, what really made the biggest difference was bulding up the sets as we add primes and not computing things from scratch with each iteration."
   ]
  }
 ],
 "metadata": {
  "kernelspec": {
   "display_name": "Julia 1.4.1",
   "language": "julia",
   "name": "julia-1.4"
  },
  "language_info": {
   "file_extension": ".jl",
   "mimetype": "application/julia",
   "name": "julia",
   "version": "1.4.1"
  }
 },
 "nbformat": 4,
 "nbformat_minor": 4
}
