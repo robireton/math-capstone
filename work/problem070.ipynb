{
 "cells": [
  {
   "cell_type": "markdown",
   "metadata": {},
   "source": [
    "# [Totient permutation](https://projecteuler.net/problem=70)\n",
    "\n",
    "> Euler's Totient function, φ(*n*) \\[sometimes called the phi function\\], is used to determine the number of positive numbers less than or equal to *n* which are relatively prime to *n*. For example, as 1, 2, 4, 5, 7, and 8, are all less than nine and relatively prime to nine, φ(9)=6.\n",
    "> The number 1 is considered to be relatively prime to every positive number, so φ(1)=1.\n",
    ">\n",
    "> Interestingly, φ(87109)=79180, and it can be seen that 87109 is a permutation of 79180.\n",
    ">\n",
    "> Find the value of *n*, 1 < *n* < 10<sup>7</sup>, for which φ(*n*) is a permutation of *n* and the ratio *n*/φ(*n*) produces a minimum.\n"
   ]
  },
  {
   "cell_type": "markdown",
   "metadata": {},
   "source": [
    "For this problem, I’m demonstrating that Julia can be fast enough that a simple implementation of a solution can work without needing to reformulate it to be as fast as possible. For this one, I used the module-supplied totient function, but added a binding for `ϕ` just to make the code match the problem statement better. I needed an operator for the ‘is a permutation of’ relation. I chose `∽` from the `prec-comparison` group in [Julia’s parser code](https://github.com/JuliaLang/julia/blob/master/src/julia-parser.scm) because ‘permutation of’ reminds me of ‘similar to’ and I wanted something with the same precedence as other comparison operators."
   ]
  },
  {
   "cell_type": "code",
   "execution_count": 1,
   "metadata": {},
   "outputs": [
    {
     "data": {
      "text/plain": [
       "∽ (generic function with 1 method)"
      ]
     },
     "execution_count": 1,
     "metadata": {},
     "output_type": "execute_result"
    }
   ],
   "source": [
    "using Primes\n",
    "ϕ = totient\n",
    "∽(a::Integer, b::Integer) = sort(digits(a)) == sort(digits(b))"
   ]
  },
  {
   "cell_type": "markdown",
   "metadata": {},
   "source": [
    "Once those definitions are made, the problem can be expressed as a one-liner: create a dictionary of $n$ to $n/ϕ(n)$ for $n$s whose digits are a permutation of $ϕ(n)$’s. Pluck out the $n$ associated with the smallest ratio. Done."
   ]
  },
  {
   "cell_type": "code",
   "execution_count": 2,
   "metadata": {},
   "outputs": [
    {
     "name": "stdout",
     "output_type": "stream",
     "text": [
      " 13.692762 seconds (115.84 M allocations: 7.746 GiB, 3.56% gc time)\n"
     ]
    },
    {
     "data": {
      "text/plain": [
       "8319823"
      ]
     },
     "execution_count": 2,
     "metadata": {},
     "output_type": "execute_result"
    }
   ],
   "source": [
    "@time argmin(Dict(n => n/ϕ(n) for n in 2:9999999 if n ∽ ϕ(n)))"
   ]
  },
  {
   "cell_type": "markdown",
   "metadata": {},
   "source": [
    "Is this the fastest implementation out there? No. Is it easy to see that it is solving the problem as stated? Absolutely. You might think that computing `ϕ(n)` twice would slow things down, but I timed a version that only does it once, and it made no meaningful difference—the compiler took care of optimizing that, so I can keep the more natural expression. The path to faster execution is by transforming the problem, but that’s going to take me more than 13 seconds to do, and sometimes you just need an answer."
   ]
  },
  {
   "cell_type": "code",
   "execution_count": 3,
   "metadata": {},
   "outputs": [
    {
     "name": "stdout",
     "output_type": "stream",
     "text": [
      " 13.003066 seconds (114.16 M allocations: 7.666 GiB, 3.31% gc time)\n"
     ]
    },
    {
     "data": {
      "text/plain": [
       "8319823"
      ]
     },
     "execution_count": 3,
     "metadata": {},
     "output_type": "execute_result"
    }
   ],
   "source": [
    "function p70a(m)\n",
    "    argmin(Dict(n => n/ϕ(n) for n in 2:m-1 if n ∽ ϕ(n)))\n",
    "end\n",
    "\n",
    "@time p70a(10000000)"
   ]
  },
  {
   "cell_type": "code",
   "execution_count": 4,
   "metadata": {},
   "outputs": [
    {
     "name": "stdout",
     "output_type": "stream",
     "text": [
      " 12.911443 seconds (114.13 M allocations: 7.664 GiB, 3.30% gc time)\n"
     ]
    },
    {
     "data": {
      "text/plain": [
       "8319823"
      ]
     },
     "execution_count": 4,
     "metadata": {},
     "output_type": "execute_result"
    }
   ],
   "source": [
    "function p70b(m)\n",
    "    A = Dict{Int64,Float64}()\n",
    "    for n in 2:m-1\n",
    "        d = ϕ(n)\n",
    "        if n ∽ d\n",
    "            A[n] = n/d\n",
    "        end\n",
    "    end\n",
    "    argmin(A)\n",
    "end\n",
    "\n",
    "@time p70b(10000000)"
   ]
  }
 ],
 "metadata": {
  "kernelspec": {
   "display_name": "Julia 1.4.1",
   "language": "julia",
   "name": "julia-1.4"
  },
  "language_info": {
   "file_extension": ".jl",
   "mimetype": "application/julia",
   "name": "julia",
   "version": "1.4.1"
  }
 },
 "nbformat": 4,
 "nbformat_minor": 4
}
