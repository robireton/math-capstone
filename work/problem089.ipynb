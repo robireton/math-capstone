{
 "cells": [
  {
   "cell_type": "markdown",
   "metadata": {},
   "source": [
    "# Roman numerals\n",
    "\n",
    "> For a number written in Roman numerals to be considered valid there are basic rules which must be followed. Even though the rules allow some numbers to be expressed in more than one way there is always a \"best\" way of writing a particular number.\n",
    ">\n",
    "> For example, it would appear that there are at least six ways of writing the number sixteen:\n",
    ">\n",
    "> IIIIIIIIIIIIIIII  \n",
    "> VIIIIIIIIIII  \n",
    "> VVIIIIII  \n",
    "> XIIIIII  \n",
    "> VVVI  \n",
    "> XVI\n",
    ">\n",
    "> However, according to the rules only XIIIIII and XVI are valid, and the last example is considered to be the most efficient, as it uses the least number of numerals.\n",
    ">\n",
    "> The 11K text file, roman.txt (right click and 'Save Link/Target As...'), contains one thousand numbers written in valid, but not necessarily minimal, Roman numerals; see [About... Roman Numerals](https://projecteuler.net/about=roman_numerals) for the definitive rules for this problem.\n",
    ">\n",
    "> Find the number of characters saved by writing each of these in their minimal form.\n",
    ">\n",
    "> Note: You can assume that all the Roman numerals in the file contain no more than four consecutive identical units.\n"
   ]
  },
  {
   "cell_type": "code",
   "execution_count": null,
   "metadata": {},
   "outputs": [],
   "source": []
  }
 ],
 "metadata": {
  "kernelspec": {
   "display_name": "Julia 1.4.1",
   "language": "julia",
   "name": "julia-1.4"
  },
  "language_info": {
   "file_extension": ".jl",
   "mimetype": "application/julia",
   "name": "julia",
   "version": "1.4.1"
  }
 },
 "nbformat": 4,
 "nbformat_minor": 4
}
