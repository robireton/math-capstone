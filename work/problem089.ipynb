{
 "cells": [
  {
   "cell_type": "markdown",
   "metadata": {},
   "source": [
    "# Roman numerals\n",
    "\n",
    "> For a number written in Roman numerals to be considered valid there are basic rules which must be followed. Even though the rules allow some numbers to be expressed in more than one way there is always a \"best\" way of writing a particular number.\n",
    ">\n",
    "> For example, it would appear that there are at least six ways of writing the number sixteen:\n",
    ">\n",
    "> IIIIIIIIIIIIIIII  \n",
    "> VIIIIIIIIIII  \n",
    "> VVIIIIII  \n",
    "> XIIIIII  \n",
    "> VVVI  \n",
    "> XVI\n",
    ">\n",
    "> However, according to the rules only XIIIIII and XVI are valid, and the last example is considered to be the most efficient, as it uses the least number of numerals.\n",
    ">\n",
    "> The 11K text file, roman.txt (right click and 'Save Link/Target As...'), contains one thousand numbers written in valid, but not necessarily minimal, Roman numerals; see [About... Roman Numerals](https://projecteuler.net/about=roman_numerals) for the definitive rules for this problem.\n",
    ">\n",
    "> Find the number of characters saved by writing each of these in their minimal form.\n",
    ">\n",
    "> Note: You can assume that all the Roman numerals in the file contain no more than four consecutive identical units.\n"
   ]
  },
  {
   "cell_type": "code",
   "execution_count": 1,
   "metadata": {},
   "outputs": [
    {
     "data": {
      "text/plain": [
       "parseroman (generic function with 1 method)"
      ]
     },
     "execution_count": 1,
     "metadata": {},
     "output_type": "execute_result"
    }
   ],
   "source": [
    "function parseroman(r)\n",
    "    R = Dict('M'=>1000, 'D'=>500, 'C'=>100, 'L'=>50, 'X'=>10, 'V'=>5, 'I'=>1)\n",
    "    value = 0\n",
    "    for i in eachindex(r)\n",
    "        if i < lastindex(r) && R[r[i]] < R[r[nextind(r, i)]]\n",
    "            value -= R[r[i]]\n",
    "        else\n",
    "            value += R[r[i]]\n",
    "        end\n",
    "    end\n",
    "    value\n",
    "end"
   ]
  },
  {
   "cell_type": "code",
   "execution_count": 14,
   "metadata": {},
   "outputs": [
    {
     "data": {
      "text/plain": [
       "3-element Array{Any,1}:\n",
       " \"CD\"\n",
       " \"\"\n",
       " \"\""
      ]
     },
     "execution_count": 14,
     "metadata": {},
     "output_type": "execute_result"
    }
   ],
   "source": [
    "function f(a, b, c)\n",
    "    digits = []\n",
    "    if b == 4\n",
    "        push!(digits, \"$(c[3])$(c[a == 1 ? 1 : 2])\")\n",
    "        a, b = 0, 0\n",
    "    end\n",
    "    append!(digits, [c[2]^a, c[3]^b])\n",
    "    digits\n",
    "end\n",
    "\n",
    "f(0, 4, ['M', 'D', 'C'])"
   ]
  },
  {
   "cell_type": "code",
   "execution_count": 18,
   "metadata": {},
   "outputs": [
    {
     "data": {
      "text/plain": [
       "toroman (generic function with 1 method)"
      ]
     },
     "execution_count": 18,
     "metadata": {},
     "output_type": "execute_result"
    }
   ],
   "source": [
    "function toroman(n)\n",
    "    M, n = divrem(n, 1000)\n",
    "    D, n = divrem(n, 500)\n",
    "    C, n = divrem(n, 100)\n",
    "    L, n = divrem(n, 50)\n",
    "    X, n = divrem(n, 10)\n",
    "    V, I = divrem(n, 5)\n",
    "\n",
    "    digits = [ 'M'^M ]\n",
    "    append!(digits, f(D, C, ['M', 'D', 'C']))\n",
    "    append!(digits, f(L, X, ['C', 'L', 'X']))\n",
    "    append!(digits, f(V, I, ['X', 'V', 'I']))\n",
    "#     if C == 4\n",
    "#         push!(digits, D == 1 ? \"CM\" : \"CD\")\n",
    "#         D = 0\n",
    "#         C = 0\n",
    "#     end\n",
    "#     push!(digits, 'D'^D)\n",
    "#     push!(digits, 'C'^C)\n",
    "#     if X == 4\n",
    "#         push!(digits, L == 1 ? \"XC\" : \"XL\")\n",
    "#         L = 0\n",
    "#         X = 0\n",
    "#     end\n",
    "#     push!(digits, 'L'^L)\n",
    "#     push!(digits, 'X'^X)\n",
    "#     if I == 4\n",
    "#         push!(digits, V == 1 ? \"IX\" : \"IV\")\n",
    "#         V = 0\n",
    "#         I = 0\n",
    "#     end\n",
    "#     push!(digits, 'V'^V)\n",
    "#     push!(digits, 'I'^I)\n",
    "\n",
    "    join(digits)\n",
    "end"
   ]
  },
  {
   "cell_type": "code",
   "execution_count": 19,
   "metadata": {},
   "outputs": [
    {
     "name": "stdout",
     "output_type": "stream",
     "text": [
      "numbers expressed with 8850 characters, redone with 8107 characters\n"
     ]
    },
    {
     "data": {
      "text/plain": [
       "743"
      ]
     },
     "execution_count": 19,
     "metadata": {},
     "output_type": "execute_result"
    }
   ],
   "source": [
    "given = 0\n",
    "computed = 0\n",
    "for r in eachline(\"p089_roman.txt\")\n",
    "    given += length(r)\n",
    "    computed += length((toroman ∘ parseroman)(r))\n",
    "end\n",
    "println(\"numbers expressed with $given characters, redone with $computed characters\")\n",
    "given - computed"
   ]
  },
  {
   "cell_type": "markdown",
   "metadata": {},
   "source": [
    "## Implementing a Custom Type"
   ]
  },
  {
   "cell_type": "code",
   "execution_count": 6,
   "metadata": {},
   "outputs": [
    {
     "data": {
      "text/plain": [
       "MCMLXXI"
      ]
     },
     "execution_count": 6,
     "metadata": {},
     "output_type": "execute_result"
    }
   ],
   "source": [
    "primitive type Roman <: Integer 64 end\n",
    "Roman(x::Int64) = reinterpret(Roman, x)\n",
    "Int64(x::Roman) = reinterpret(Int64, x)\n",
    "Base.show(io::IO, x::Roman) = print(io, toroman(Int64(x)))\n",
    "Roman(1971)"
   ]
  }
 ],
 "metadata": {
  "kernelspec": {
   "display_name": "Julia 1.4.1",
   "language": "julia",
   "name": "julia-1.4"
  },
  "language_info": {
   "file_extension": ".jl",
   "mimetype": "application/julia",
   "name": "julia",
   "version": "1.4.1"
  }
 },
 "nbformat": 4,
 "nbformat_minor": 4
}
