{
 "cells": [
  {
   "cell_type": "markdown",
   "metadata": {},
   "source": [
    "# Su Doku\n",
    "\n",
    "<blockquote>\n",
    "<p>Su Doku (Japanese meaning <i>number place</i>) is the name given to a popular puzzle concept. Its origin is unclear, but credit must be attributed to Leonhard Euler who invented a similar, and much more difficult, puzzle idea called Latin Squares. The objective of Su Doku puzzles, however, is to replace the blanks (or zeros) in a 9 by 9 grid in such that each row, column, and 3 by 3 box contains each of the digits 1 to 9. Below is an example of a typical starting puzzle grid and its solution grid.</p>\n",
    "<div style=\"text-align:center;\">\n",
    "<table border=\"0\" cellpadding=\"0\" cellspacing=\"0\" align=\"center\"><tr><td>\n",
    "<table cellpadding=\"5\" cellspacing=\"0\" border=\"1\"><tr><td style=\"font-family:'courier new';font-size:14pt;\">0 0 3<br />9 0 0<br />0 0 1</td>\n",
    "<td style=\"font-family:'courier new';font-size:14pt;\">0 2 0<br />3 0 5<br />8 0 6</td>\n",
    "<td style=\"font-family:'courier new';font-size:14pt;\">6 0 0<br />0 0 1<br />4 0 0</td>\n",
    "</tr><tr><td style=\"font-family:'courier new';font-size:14pt;\">0 0 8<br />7 0 0<br />0 0 6</td>\n",
    "<td style=\"font-family:'courier new';font-size:14pt;\">1 0 2<br />0 0 0<br />7 0 8</td>\n",
    "<td style=\"font-family:'courier new';font-size:14pt;\">9 0 0<br />0 0 8<br />2 0 0</td>\n",
    "</tr><tr><td style=\"font-family:'courier new';font-size:14pt;\">0 0 2<br />8 0 0<br />0 0 5</td>\n",
    "<td style=\"font-family:'courier new';font-size:14pt;\">6 0 9<br />2 0 3<br />0 1 0</td>\n",
    "<td style=\"font-family:'courier new';font-size:14pt;\">5 0 0<br />0 0 9<br />3 0 0</td>\n",
    "</tr></table></td>\n",
    "<td width=\"50\"><br /></td>\n",
    "<td>\n",
    "<table cellpadding=\"5\" cellspacing=\"0\" border=\"1\"><tr><td style=\"font-family:'courier new';font-size:14pt;\">4 8 3<br />9 6 7<br />2 5 1</td>\n",
    "<td style=\"font-family:'courier new';font-size:14pt;\">9 2 1<br />3 4 5<br />8 7 6</td>\n",
    "<td style=\"font-family:'courier new';font-size:14pt;\">6 5 7<br />8 2 1<br />4 9 3</td>\n",
    "</tr><tr><td style=\"font-family:'courier new';font-size:14pt;\">5 4 8<br />7 2 9<br />1 3 6</td>\n",
    "<td style=\"font-family:'courier new';font-size:14pt;\">1 3 2<br />5 6 4<br />7 9 8</td>\n",
    "<td style=\"font-family:'courier new';font-size:14pt;\">9 7 6<br />1 3 8<br />2 4 5</td>\n",
    "</tr><tr><td style=\"font-family:'courier new';font-size:14pt;\">3 7 2<br />8 1 4<br />6 9 5</td>\n",
    "<td style=\"font-family:'courier new';font-size:14pt;\">6 8 9<br />2 5 3<br />4 1 7</td>\n",
    "<td style=\"font-family:'courier new';font-size:14pt;\">5 1 4<br />7 6 9<br />3 8 2</td>\n",
    "</tr></table></td>\n",
    "</tr></table></div>\n",
    "<p>A well constructed Su Doku puzzle has a unique solution and can be solved by logic, although it may be necessary to employ \"guess and test\" methods in order to eliminate options (there is much contested opinion over this). The complexity of the search determines the difficulty of the puzzle; the example above is considered <i>easy</i> because it can be solved by straight forward direct deduction.</p>\n",
    "<p>The 6K text file, <a href=\"./p096_sudoku.txt\">sudoku.txt</a> (right click and 'Save Link/Target As...'), contains fifty different Su Doku puzzles ranging in difficulty, but all with unique solutions (the first puzzle in the file is the example above).</p>\n",
    "<p>By solving all fifty puzzles find the sum of the 3-digit numbers found in the top left corner of each solution grid; for example, 483 is the 3-digit number found in the top left corner of the solution grid above.</p>\n",
    "</blockquote>"
   ]
  },
  {
   "cell_type": "markdown",
   "metadata": {},
   "source": [
    "## Reading and Parsing the Input"
   ]
  },
  {
   "cell_type": "code",
   "execution_count": 28,
   "metadata": {},
   "outputs": [
    {
     "data": {
      "text/plain": [
       "fillobvious! (generic function with 1 method)"
      ]
     },
     "execution_count": 28,
     "metadata": {},
     "output_type": "execute_result"
    }
   ],
   "source": [
    "A = Set(['1', '2', '3', '4', '5', '6', '7', '8', '9'])\n",
    "function getpuzzle(io)\n",
    "    header = readline(io)\n",
    "    length(header) > 0 || return nothing\n",
    "    id = parse(Int, header[6:7])\n",
    "    G = Array{Char}(undef, 9, 9)\n",
    "    for i in 1:9\n",
    "        row = readline(io)\n",
    "        for j in 1:9\n",
    "            G[i, j] = row[j] ∈ A ? row[j] : ' '\n",
    "        end\n",
    "    end\n",
    "    (id, G)\n",
    "end\n",
    "progress(G) = count(x->x∈A, G)\n",
    "row(G, i) = G[i,:]\n",
    "col(G, j) = G[:,j]\n",
    "box(G, i) = G[(i-1)÷3*3+1:(i-1)÷3*3+3, (i-1)%3*3+1:(i-1)%3*3+3]\n",
    "box(G, i, j) = G[(i-1)÷3*3+1:(i-1)÷3*3+3, (j-1)÷3*3+1:(j-1)÷3*3+3]\n",
    "setfrom(B) = Set(B) ∩ A\n",
    "candidates(G, i, j) = isempty(setfrom(G[i, j])) ? setdiff(A, row(G, i), col(G, j), box(G, i, j)) : Set{Char}()\n",
    "candidates(G) = [candidates(G, i, j) for i in 1:9, j in 1:9]\n",
    "function fillobvious!(G)\n",
    "    before = progress(G)\n",
    "    for i in 1:9, j in 1:9\n",
    "        c = candidates(G, i, j)\n",
    "        if length(c) == 1\n",
    "            G[i, j] = collect(c)[1]\n",
    "        end\n",
    "    end\n",
    "    after = progress(G)\n",
    "    before < after && fillobvious!(G)\n",
    "end"
   ]
  },
  {
   "cell_type": "code",
   "execution_count": 26,
   "metadata": {},
   "outputs": [
    {
     "name": "stdout",
     "output_type": "stream",
     "text": [
      "solved 1\n",
      "solved 5\n",
      "solved 8\n",
      "solved 12\n",
      "solved 16\n",
      "solved 17\n",
      "solved 19\n",
      "solved 20\n",
      "solved 34\n",
      "solved 36\n",
      "solved 38\n",
      "solved 40\n"
     ]
    }
   ],
   "source": [
    "puzzles = open(\"p096_sudoku.txt\")\n",
    "for p in 1:50\n",
    "    n, g = getpuzzle(puzzles)\n",
    "    fillobvious!(g)\n",
    "    progress(g) == 81 && println(\"solved $n\")\n",
    "end\n",
    "close(puzzles)"
   ]
  },
  {
   "cell_type": "code",
   "execution_count": 27,
   "metadata": {},
   "outputs": [
    {
     "data": {
      "text/plain": [
       "9×9 Array{Char,2}:\n",
       " ' '  ' '  ' '  ' '  '2'  '8'  '3'  '4'  '5'\n",
       " ' '  ' '  '8'  ' '  '3'  '5'  '1'  '9'  '7'\n",
       " ' '  ' '  ' '  ' '  '7'  '9'  '6'  '8'  '2'\n",
       " '5'  '3'  '1'  '2'  '4'  '6'  '9'  '7'  '8'\n",
       " '2'  ' '  ' '  ' '  ' '  ' '  '4'  '5'  '1'\n",
       " ' '  ' '  ' '  '5'  ' '  '1'  '2'  '6'  '3'\n",
       " '1'  '4'  '9'  '8'  '5'  '2'  '7'  '3'  '6'\n",
       " ' '  ' '  ' '  ' '  ' '  ' '  '8'  '1'  '4'\n",
       " '8'  ' '  ' '  ' '  ' '  '4'  '5'  '2'  '9'"
      ]
     },
     "execution_count": 27,
     "metadata": {},
     "output_type": "execute_result"
    }
   ],
   "source": [
    "p15 = []\n",
    "puzzles = open(\"p096_sudoku.txt\")\n",
    "for p in 1:50\n",
    "    n, g = getpuzzle(puzzles)\n",
    "    fillobvious!(g)\n",
    "    (n == 15) && (p15 = copy(g))\n",
    "end\n",
    "close(puzzles)\n",
    "p15"
   ]
  },
  {
   "cell_type": "markdown",
   "metadata": {},
   "source": [
    "It is fun to try to write a program to solve these puzzles the way humans do. But the easiest approach is simple backtracking I suspect."
   ]
  },
  {
   "cell_type": "code",
   "execution_count": 30,
   "metadata": {},
   "outputs": [
    {
     "data": {
      "text/plain": [
       "9×9 Array{Set{Char},2}:\n",
       " Set(['7', '6', '9'])  …  Set([])  Set([])  Set([])\n",
       " Set(['4', '6'])          Set([])  Set([])  Set([])\n",
       " Set(['3', '4'])          Set([])  Set([])  Set([])\n",
       " Set([])                  Set([])  Set([])  Set([])\n",
       " Set([])                  Set([])  Set([])  Set([])\n",
       " Set(['4', '7', '9'])  …  Set([])  Set([])  Set([])\n",
       " Set([])                  Set([])  Set([])  Set([])\n",
       " Set(['3', '7', '6'])     Set([])  Set([])  Set([])\n",
       " Set([])                  Set([])  Set([])  Set([])"
      ]
     },
     "execution_count": 30,
     "metadata": {},
     "output_type": "execute_result"
    }
   ],
   "source": [
    "C = candidates(p15)\n",
    "C"
   ]
  },
  {
   "cell_type": "code",
   "execution_count": 32,
   "metadata": {},
   "outputs": [
    {
     "data": {
      "text/plain": [
       "9-element Array{Set{Char},1}:\n",
       " Set(['4', '6'])\n",
       " Set(['2', '6'])\n",
       " Set([])\n",
       " Set(['4', '6'])\n",
       " Set([])\n",
       " Set([])\n",
       " Set([])\n",
       " Set([])\n",
       " Set([])"
      ]
     },
     "execution_count": 32,
     "metadata": {},
     "output_type": "execute_result"
    }
   ],
   "source": [
    "row(C, 2)"
   ]
  },
  {
   "cell_type": "code",
   "execution_count": null,
   "metadata": {},
   "outputs": [],
   "source": []
  }
 ],
 "metadata": {
  "kernelspec": {
   "display_name": "Julia 1.4.1",
   "language": "julia",
   "name": "julia-1.4"
  },
  "language_info": {
   "file_extension": ".jl",
   "mimetype": "application/julia",
   "name": "julia",
   "version": "1.4.1"
  }
 },
 "nbformat": 4,
 "nbformat_minor": 4
}
